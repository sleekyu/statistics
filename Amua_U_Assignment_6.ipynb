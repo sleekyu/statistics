{
  "nbformat": 4,
  "nbformat_minor": 0,
  "metadata": {
    "colab": {
      "provenance": []
    },
    "kernelspec": {
      "name": "python3",
      "display_name": "Python 3"
    },
    "language_info": {
      "name": "python"
    }
  },
  "cells": [
    {
      "cell_type": "markdown",
      "source": [
        "**Solution 1**\n",
        "\n",
        "Let X be the random variable equal to the number of defective components"
      ],
      "metadata": {
        "id": "v-42ia4q4xkY"
      }
    },
    {
      "cell_type": "markdown",
      "source": [
        "Using Pure Python"
      ],
      "metadata": {
        "id": "Ww15OwM27I0V"
      }
    },
    {
      "cell_type": "code",
      "source": [
        "from math import factorial"
      ],
      "metadata": {
        "id": "5CiyJv7G9LCf"
      },
      "execution_count": null,
      "outputs": []
    },
    {
      "cell_type": "code",
      "source": [
        "from itertools import permutations\n",
        "from itertools import combinations"
      ],
      "metadata": {
        "id": "iYuTgvF9904F"
      },
      "execution_count": null,
      "outputs": []
    },
    {
      "cell_type": "code",
      "source": [
        "def comb(n, x):\n",
        "    return int(factorial(n)/(factorial(n-x) * factorial(x)))\n",
        "\n"
      ],
      "metadata": {
        "id": "z69MOMRs7W9p"
      },
      "execution_count": null,
      "outputs": []
    },
    {
      "cell_type": "code",
      "source": [
        "comb(20, 2)"
      ],
      "metadata": {
        "colab": {
          "base_uri": "https://localhost:8080/"
        },
        "id": "Ovdxdylq-cLr",
        "outputId": "fc436e4a-e345-41a0-c59f-1b0e6f7ae8ca"
      },
      "execution_count": null,
      "outputs": [
        {
          "output_type": "execute_result",
          "data": {
            "text/plain": [
              "190"
            ]
          },
          "metadata": {},
          "execution_count": 13
        }
      ]
    },
    {
      "cell_type": "code",
      "source": [
        "def pmf(a, b, c):\n",
        "    result = (factorial(a)/(factorial(a-c) * factorial(c))) * (factorial(b)/((factorial(b-(2-c))) * factorial(2-c)))\n",
        "    return round(result/comb(20, 2), 3)"
      ],
      "metadata": {
        "id": "bWGD2W8mCo2N"
      },
      "execution_count": 56,
      "outputs": []
    },
    {
      "cell_type": "code",
      "source": [
        "pmf_0 = pmf(3, 17, 0)"
      ],
      "metadata": {
        "id": "EaCEYf92EjBj"
      },
      "execution_count": 62,
      "outputs": []
    },
    {
      "cell_type": "code",
      "source": [
        "pmf_0"
      ],
      "metadata": {
        "colab": {
          "base_uri": "https://localhost:8080/"
        },
        "id": "ntHTiEm7Tp6p",
        "outputId": "05bc19f6-e06a-4b6b-8edc-fa7d1f53b3a6"
      },
      "execution_count": 63,
      "outputs": [
        {
          "output_type": "execute_result",
          "data": {
            "text/plain": [
              "0.716"
            ]
          },
          "metadata": {},
          "execution_count": 63
        }
      ]
    },
    {
      "cell_type": "code",
      "source": [
        "pmf_1 = pmf(3, 17, 1)"
      ],
      "metadata": {
        "id": "M3VwHjoBIOGp"
      },
      "execution_count": 64,
      "outputs": []
    },
    {
      "cell_type": "code",
      "source": [
        "pmf_1"
      ],
      "metadata": {
        "colab": {
          "base_uri": "https://localhost:8080/"
        },
        "id": "_p0YKgW8T0VU",
        "outputId": "2704f6a5-3621-4659-a716-23a1b273a040"
      },
      "execution_count": 65,
      "outputs": [
        {
          "output_type": "execute_result",
          "data": {
            "text/plain": [
              "0.268"
            ]
          },
          "metadata": {},
          "execution_count": 65
        }
      ]
    },
    {
      "cell_type": "code",
      "source": [
        "pmf_2 = pmf(3, 17, 2)"
      ],
      "metadata": {
        "id": "d8n1kz-DIZFi"
      },
      "execution_count": 67,
      "outputs": []
    },
    {
      "cell_type": "code",
      "source": [
        "pmf_2"
      ],
      "metadata": {
        "colab": {
          "base_uri": "https://localhost:8080/"
        },
        "id": "0VDiH1Z6UAqH",
        "outputId": "c82c1cc2-9d45-447e-fda4-fc06d2c5ba19"
      },
      "execution_count": 68,
      "outputs": [
        {
          "output_type": "execute_result",
          "data": {
            "text/plain": [
              "0.016"
            ]
          },
          "metadata": {},
          "execution_count": 68
        }
      ]
    },
    {
      "cell_type": "code",
      "source": [
        "def total_pmf():\n",
        "    return pmf_0 + pmf_1 + pmf_2\n",
        "\n",
        "total_pmf = total_pmf()"
      ],
      "metadata": {
        "id": "giOgos3BSfsB"
      },
      "execution_count": 75,
      "outputs": []
    },
    {
      "cell_type": "code",
      "source": [
        "total_pmf"
      ],
      "metadata": {
        "colab": {
          "base_uri": "https://localhost:8080/"
        },
        "id": "WjigidQWSzN4",
        "outputId": "6e5155a9-1d01-4373-8b7a-73da2311309c"
      },
      "execution_count": 76,
      "outputs": [
        {
          "output_type": "execute_result",
          "data": {
            "text/plain": [
              "1.0"
            ]
          },
          "metadata": {},
          "execution_count": 76
        }
      ]
    },
    {
      "cell_type": "code",
      "source": [
        "def mean_x():\n",
        "    return (0 * pmf_0) + (1 * pmf_1) + (2 * pmf_2)\n",
        "\n",
        "mean = mean_x()    "
      ],
      "metadata": {
        "id": "CEMQEz8mS538"
      },
      "execution_count": 71,
      "outputs": []
    },
    {
      "cell_type": "code",
      "source": [
        "mean"
      ],
      "metadata": {
        "colab": {
          "base_uri": "https://localhost:8080/"
        },
        "id": "g2ydN_6nU8z8",
        "outputId": "e13de6e2-10d9-42bd-d33d-3a23c891f37c"
      },
      "execution_count": 72,
      "outputs": [
        {
          "output_type": "execute_result",
          "data": {
            "text/plain": [
              "0.30000000000000004"
            ]
          },
          "metadata": {},
          "execution_count": 72
        }
      ]
    },
    {
      "cell_type": "code",
      "source": [
        "def moment():\n",
        "    return (0 ** 2 * pmf_0) + (1 ** 2 * pmf_1) + (2 ** 2 * pmf_2)\n",
        "\n",
        "_2nd_moment = moment()"
      ],
      "metadata": {
        "id": "sEokjbnlVWxs"
      },
      "execution_count": 86,
      "outputs": []
    },
    {
      "cell_type": "code",
      "source": [
        "_2nd_moment"
      ],
      "metadata": {
        "colab": {
          "base_uri": "https://localhost:8080/"
        },
        "id": "zIMa6GMNXk57",
        "outputId": "89f10164-1487-4984-8684-c7f192a31795"
      },
      "execution_count": 87,
      "outputs": [
        {
          "output_type": "execute_result",
          "data": {
            "text/plain": [
              "0.332"
            ]
          },
          "metadata": {},
          "execution_count": 87
        }
      ]
    },
    {
      "cell_type": "code",
      "source": [
        "def variance():\n",
        "    return _2nd_moment - mean ** 2\n",
        "\n",
        "variance = variance()"
      ],
      "metadata": {
        "id": "Q4F93n8zZMBZ"
      },
      "execution_count": 88,
      "outputs": []
    },
    {
      "cell_type": "code",
      "source": [
        "variance"
      ],
      "metadata": {
        "colab": {
          "base_uri": "https://localhost:8080/"
        },
        "id": "NJMX3IQbaESI",
        "outputId": "5dc344e6-3cb9-49f3-d609-2d763cdbdcb2"
      },
      "execution_count": 89,
      "outputs": [
        {
          "output_type": "execute_result",
          "data": {
            "text/plain": [
              "0.242"
            ]
          },
          "metadata": {},
          "execution_count": 89
        }
      ]
    },
    {
      "cell_type": "markdown",
      "source": [
        "Using SymPy "
      ],
      "metadata": {
        "id": "6gWxTKZDaKSR"
      }
    },
    {
      "cell_type": "code",
      "source": [
        "from sympy.stats import FiniteRV, P, E, variance\n"
      ],
      "metadata": {
        "id": "QlzM7Dewaei1"
      },
      "execution_count": 105,
      "outputs": []
    },
    {
      "cell_type": "code",
      "source": [
        "pmf = {0: 0.716, 1: 0.268, 2: 0.016}"
      ],
      "metadata": {
        "id": "LeGcTE5XdbEo"
      },
      "execution_count": 100,
      "outputs": []
    },
    {
      "cell_type": "code",
      "source": [
        "pmf"
      ],
      "metadata": {
        "colab": {
          "base_uri": "https://localhost:8080/"
        },
        "id": "81BnAySTebe0",
        "outputId": "faec8c1d-a524-4ac0-af46-9d6cbf23215a"
      },
      "execution_count": 101,
      "outputs": [
        {
          "output_type": "execute_result",
          "data": {
            "text/plain": [
              "{0: 0.716, 1: 0.268, 2: 0.016}"
            ]
          },
          "metadata": {},
          "execution_count": 101
        }
      ]
    },
    {
      "cell_type": "code",
      "source": [
        "P(X<1)"
      ],
      "metadata": {
        "colab": {
          "base_uri": "https://localhost:8080/",
          "height": 38
        },
        "id": "MCbYf7pgoG6S",
        "outputId": "28aab17d-f23c-41b0-ff9f-ea9bce3ee5a3"
      },
      "execution_count": 106,
      "outputs": [
        {
          "output_type": "execute_result",
          "data": {
            "text/plain": [
              "0.716000000000000"
            ],
            "text/latex": "$\\displaystyle 0.716$"
          },
          "metadata": {},
          "execution_count": 106
        }
      ]
    },
    {
      "cell_type": "code",
      "source": [
        "P(X<=1) - P(X<=0)"
      ],
      "metadata": {
        "colab": {
          "base_uri": "https://localhost:8080/",
          "height": 38
        },
        "id": "ciYE2tRfoNmo",
        "outputId": "810c505a-7c55-4d8f-e085-68dc8881bc9a"
      },
      "execution_count": 107,
      "outputs": [
        {
          "output_type": "execute_result",
          "data": {
            "text/plain": [
              "0.268000000000000"
            ],
            "text/latex": "$\\displaystyle 0.268$"
          },
          "metadata": {},
          "execution_count": 107
        }
      ]
    },
    {
      "cell_type": "code",
      "source": [
        "P(X<=2) - P(X<=1)"
      ],
      "metadata": {
        "colab": {
          "base_uri": "https://localhost:8080/",
          "height": 38
        },
        "id": "qLnlTi4eohTw",
        "outputId": "9bf7ee57-7c67-4618-c4c2-6fc582acb5c3"
      },
      "execution_count": 108,
      "outputs": [
        {
          "output_type": "execute_result",
          "data": {
            "text/plain": [
              "0.0160000000000000"
            ],
            "text/latex": "$\\displaystyle 0.016$"
          },
          "metadata": {},
          "execution_count": 108
        }
      ]
    },
    {
      "cell_type": "code",
      "source": [
        "X = FiniteRV(\"X\", pmf)"
      ],
      "metadata": {
        "id": "mypIDMN7fAOp"
      },
      "execution_count": 102,
      "outputs": []
    },
    {
      "cell_type": "code",
      "source": [
        "E(X)"
      ],
      "metadata": {
        "colab": {
          "base_uri": "https://localhost:8080/",
          "height": 38
        },
        "id": "DXVx1N3MfTgc",
        "outputId": "c17d7e6c-b55e-44ae-bcc4-59c137dd26bd"
      },
      "execution_count": 103,
      "outputs": [
        {
          "output_type": "execute_result",
          "data": {
            "text/plain": [
              "0.300000000000000"
            ],
            "text/latex": "$\\displaystyle 0.3$"
          },
          "metadata": {},
          "execution_count": 103
        }
      ]
    },
    {
      "cell_type": "code",
      "source": [
        "variance(X)"
      ],
      "metadata": {
        "colab": {
          "base_uri": "https://localhost:8080/",
          "height": 38
        },
        "id": "qXaub3fgfjUH",
        "outputId": "3b499d10-df9e-484f-abf8-b09ab91d68c0"
      },
      "execution_count": 104,
      "outputs": [
        {
          "output_type": "execute_result",
          "data": {
            "text/plain": [
              "0.242000000000000"
            ],
            "text/latex": "$\\displaystyle 0.242$"
          },
          "metadata": {},
          "execution_count": 104
        }
      ]
    },
    {
      "cell_type": "markdown",
      "source": [
        "In the case it was discovered the random variable has **Hypergeometric Distribution** with n = 2, and probability of defective components p = 3/20 = 0.15."
      ],
      "metadata": {
        "id": "EMa64uCBpCwA"
      }
    },
    {
      "cell_type": "markdown",
      "source": [
        "Using Pure Python"
      ],
      "metadata": {
        "id": "kYiKKRwUpaOU"
      }
    },
    {
      "cell_type": "code",
      "source": [
        "pmf = []\n",
        "x = 2\n",
        "\n",
        "for i in range(0, x+1):\n",
        "    pmf.append(comb(2,i) * 0.15**i * (1-0.15)**(2-i))"
      ],
      "metadata": {
        "id": "ppNkx2uziljf"
      },
      "execution_count": 109,
      "outputs": []
    },
    {
      "cell_type": "code",
      "source": [
        "pmf"
      ],
      "metadata": {
        "colab": {
          "base_uri": "https://localhost:8080/"
        },
        "id": "qD4ORRHnzqH4",
        "outputId": "a0ab6e2b-f5f5-4fc4-d202-64d909e7662a"
      },
      "execution_count": 110,
      "outputs": [
        {
          "output_type": "execute_result",
          "data": {
            "text/plain": [
              "[0.7224999999999999, 0.255, 0.0225]"
            ]
          },
          "metadata": {},
          "execution_count": 110
        }
      ]
    },
    {
      "cell_type": "code",
      "source": [
        "#mean\n",
        "X_mean = 2 * 0.15"
      ],
      "metadata": {
        "id": "tNg_mg6904BJ"
      },
      "execution_count": 111,
      "outputs": []
    },
    {
      "cell_type": "code",
      "source": [
        "X_mean"
      ],
      "metadata": {
        "colab": {
          "base_uri": "https://localhost:8080/"
        },
        "id": "OtiOT8wb1Np7",
        "outputId": "4242bded-c031-47dc-f41c-a704764ea794"
      },
      "execution_count": 112,
      "outputs": [
        {
          "output_type": "execute_result",
          "data": {
            "text/plain": [
              "0.3"
            ]
          },
          "metadata": {},
          "execution_count": 112
        }
      ]
    },
    {
      "cell_type": "code",
      "source": [
        "#variance\n",
        "X_var = 2 * 0.15 * (1 - 0.15)"
      ],
      "metadata": {
        "id": "lWEpH4cL1TCJ"
      },
      "execution_count": 114,
      "outputs": []
    },
    {
      "cell_type": "code",
      "source": [
        "X_var"
      ],
      "metadata": {
        "colab": {
          "base_uri": "https://localhost:8080/"
        },
        "id": "Ug65f7cf14hx",
        "outputId": "d836579e-53c3-44ad-deed-ce599bd3add0"
      },
      "execution_count": 115,
      "outputs": [
        {
          "output_type": "execute_result",
          "data": {
            "text/plain": [
              "0.255"
            ]
          },
          "metadata": {},
          "execution_count": 115
        }
      ]
    },
    {
      "cell_type": "markdown",
      "source": [
        "Using SymPy"
      ],
      "metadata": {
        "id": "g1AGWJS43HUj"
      }
    },
    {
      "cell_type": "code",
      "source": [
        "from sympy.stats import Hypergeometric, density"
      ],
      "metadata": {
        "id": "PJ1q09os3MWU"
      },
      "execution_count": 116,
      "outputs": []
    },
    {
      "cell_type": "code",
      "source": [
        "X = Hypergeometric('X', 20, 3, 2)\n",
        "pmf = density(X).dict"
      ],
      "metadata": {
        "id": "DYK-Ddq03Y8d"
      },
      "execution_count": 117,
      "outputs": []
    },
    {
      "cell_type": "code",
      "source": [
        "pmf"
      ],
      "metadata": {
        "colab": {
          "base_uri": "https://localhost:8080/"
        },
        "id": "NW3YmtXl3l6N",
        "outputId": "ab6fb47c-92c3-4bc2-b1df-161b6e6ccc47"
      },
      "execution_count": 118,
      "outputs": [
        {
          "output_type": "execute_result",
          "data": {
            "text/plain": [
              "{0: 68/95, 1: 51/190, 2: 3/190}"
            ]
          },
          "metadata": {},
          "execution_count": 118
        }
      ]
    },
    {
      "cell_type": "code",
      "source": [
        "#mwan\n",
        "\n",
        "E(X)"
      ],
      "metadata": {
        "colab": {
          "base_uri": "https://localhost:8080/",
          "height": 51
        },
        "id": "34G3UjLE31g8",
        "outputId": "9a47fc58-6246-4758-fb77-4b345c75f164"
      },
      "execution_count": 119,
      "outputs": [
        {
          "output_type": "execute_result",
          "data": {
            "text/plain": [
              "3/10"
            ],
            "text/latex": "$\\displaystyle \\frac{3}{10}$"
          },
          "metadata": {},
          "execution_count": 119
        }
      ]
    },
    {
      "cell_type": "code",
      "source": [
        "#variance\n",
        "\n",
        "variance(X)"
      ],
      "metadata": {
        "colab": {
          "base_uri": "https://localhost:8080/",
          "height": 51
        },
        "id": "WLT7Oypu3-v7",
        "outputId": "f1d32d1d-3a7b-4927-92e3-d9a10d2058b2"
      },
      "execution_count": 120,
      "outputs": [
        {
          "output_type": "execute_result",
          "data": {
            "text/plain": [
              "459/1900"
            ],
            "text/latex": "$\\displaystyle \\frac{459}{1900}$"
          },
          "metadata": {},
          "execution_count": 120
        }
      ]
    },
    {
      "cell_type": "markdown",
      "source": [
        "Using SciPy"
      ],
      "metadata": {
        "id": "1Rs3jGwl41lz"
      }
    },
    {
      "cell_type": "code",
      "source": [
        "from scipy.stats import hypergeom\n",
        "import numpy as np"
      ],
      "metadata": {
        "id": "XScry1pw4Meo"
      },
      "execution_count": 122,
      "outputs": []
    },
    {
      "cell_type": "code",
      "source": [
        "[a,  b, c] = [20, 2, 3]\n",
        "\n",
        "rv = hypergeom(a, b, c)\n",
        "\n",
        "x = np.arange(0, b+1)\n",
        "\n",
        "pmf = rv.pmf(x)\n"
      ],
      "metadata": {
        "id": "7iuwOa595Afp"
      },
      "execution_count": 123,
      "outputs": []
    },
    {
      "cell_type": "code",
      "source": [
        "pmf"
      ],
      "metadata": {
        "colab": {
          "base_uri": "https://localhost:8080/"
        },
        "id": "oBRnDDp-6NlT",
        "outputId": "53cba8cc-f56b-422e-fee5-8b883bd1eeb7"
      },
      "execution_count": 124,
      "outputs": [
        {
          "output_type": "execute_result",
          "data": {
            "text/plain": [
              "array([0.71578947, 0.26842105, 0.01578947])"
            ]
          },
          "metadata": {},
          "execution_count": 124
        }
      ]
    },
    {
      "cell_type": "code",
      "source": [
        "#mean\n",
        "hypergeom.mean(a, b, c)"
      ],
      "metadata": {
        "colab": {
          "base_uri": "https://localhost:8080/"
        },
        "id": "Wi_G8yft6yRu",
        "outputId": "17a0d4d2-2e32-4f36-f35a-f816f093f3f4"
      },
      "execution_count": 126,
      "outputs": [
        {
          "output_type": "execute_result",
          "data": {
            "text/plain": [
              "0.30000000000000004"
            ]
          },
          "metadata": {},
          "execution_count": 126
        }
      ]
    },
    {
      "cell_type": "code",
      "source": [
        "#variance\n",
        "hypergeom.var(a, b, c)"
      ],
      "metadata": {
        "colab": {
          "base_uri": "https://localhost:8080/"
        },
        "id": "i-71KGBs7ybY",
        "outputId": "ead9362f-0eb1-47cc-bcff-0ff9aac88545"
      },
      "execution_count": 127,
      "outputs": [
        {
          "output_type": "execute_result",
          "data": {
            "text/plain": [
              "0.24157894736842106"
            ]
          },
          "metadata": {},
          "execution_count": 127
        }
      ]
    },
    {
      "cell_type": "markdown",
      "source": [
        "**Solution 2**\n",
        "\n",
        "Let X be the waiting time for thte light to go from go from red to green"
      ],
      "metadata": {
        "id": "6r_hcihvDWE6"
      }
    },
    {
      "cell_type": "markdown",
      "source": [
        "Using SymPy"
      ],
      "metadata": {
        "id": "iJ3a5hW5E01U"
      }
    },
    {
      "cell_type": "code",
      "source": [
        "from sympy import Interval, cos, Symbol\n",
        "from sympy.stats import ContinuousRV"
      ],
      "metadata": {
        "id": "yz6UUrQIE9Wu"
      },
      "execution_count": 134,
      "outputs": []
    },
    {
      "cell_type": "code",
      "source": [
        "x = Symbol('X')\n",
        "X = ContinuousRV(x, 1/30, Interval(0, 30))"
      ],
      "metadata": {
        "id": "A1mBLDiaJS5N"
      },
      "execution_count": 135,
      "outputs": []
    },
    {
      "cell_type": "code",
      "source": [
        "P(X < 30)"
      ],
      "metadata": {
        "colab": {
          "base_uri": "https://localhost:8080/",
          "height": 38
        },
        "id": "kxLXXzUmEo34",
        "outputId": "ad34da01-db60-4d56-a90e-7d8b6c852fca"
      },
      "execution_count": 136,
      "outputs": [
        {
          "output_type": "execute_result",
          "data": {
            "text/plain": [
              "1.00000000000000"
            ],
            "text/latex": "$\\displaystyle 1.0$"
          },
          "metadata": {},
          "execution_count": 136
        }
      ]
    },
    {
      "cell_type": "code",
      "source": [
        "mean = E(X)"
      ],
      "metadata": {
        "id": "2_mf1Tit8n2x"
      },
      "execution_count": 137,
      "outputs": []
    },
    {
      "cell_type": "code",
      "source": [
        "mean"
      ],
      "metadata": {
        "colab": {
          "base_uri": "https://localhost:8080/",
          "height": 38
        },
        "id": "yF2LoAhUO1Xb",
        "outputId": "dd5d7d22-e813-4036-f0ac-6755b471017a"
      },
      "execution_count": 138,
      "outputs": [
        {
          "output_type": "execute_result",
          "data": {
            "text/plain": [
              "15.0000000000000"
            ],
            "text/latex": "$\\displaystyle 15.0$"
          },
          "metadata": {},
          "execution_count": 138
        }
      ]
    },
    {
      "cell_type": "code",
      "source": [
        "variance(X)"
      ],
      "metadata": {
        "colab": {
          "base_uri": "https://localhost:8080/",
          "height": 38
        },
        "id": "aZTP514qO-Cx",
        "outputId": "798ae545-dee3-41fb-cdc6-ac391b1ca137"
      },
      "execution_count": 139,
      "outputs": [
        {
          "output_type": "execute_result",
          "data": {
            "text/plain": [
              "75.0000000000000"
            ],
            "text/latex": "$\\displaystyle 75.0$"
          },
          "metadata": {},
          "execution_count": 139
        }
      ]
    },
    {
      "cell_type": "markdown",
      "source": [
        "Using Sympy Uniform"
      ],
      "metadata": {
        "id": "7G_dxJadUUlQ"
      }
    },
    {
      "cell_type": "code",
      "source": [
        "from sympy.stats import Uniform, density\n",
        "from sympy import pprint"
      ],
      "metadata": {
        "id": "CkfzdGThUbbE"
      },
      "execution_count": 150,
      "outputs": []
    },
    {
      "cell_type": "code",
      "source": [
        "z = Symbol(\"z\")\n",
        "a = Symbol(\"a\", positive = True)\n",
        "b = Symbol(\"b\", positive = True)"
      ],
      "metadata": {
        "id": "-VahC-p_U8t5"
      },
      "execution_count": 151,
      "outputs": []
    },
    {
      "cell_type": "code",
      "source": [
        "z = 2\n",
        "a = 0\n",
        "b = 30"
      ],
      "metadata": {
        "id": "rAuHgjbhWLYT"
      },
      "execution_count": 154,
      "outputs": []
    },
    {
      "cell_type": "code",
      "source": [
        "X = Uniform(\"x\", a, b)\n",
        "gfg = density(X)(z)"
      ],
      "metadata": {
        "id": "itZVHJ5mVfHL"
      },
      "execution_count": 156,
      "outputs": []
    },
    {
      "cell_type": "code",
      "source": [
        "pprint(gfg)"
      ],
      "metadata": {
        "colab": {
          "base_uri": "https://localhost:8080/"
        },
        "id": "iv5we19KV0b4",
        "outputId": "bba48de0-12f5-4a37-e238-17997324804d"
      },
      "execution_count": 157,
      "outputs": [
        {
          "output_type": "stream",
          "name": "stdout",
          "text": [
            "1/30\n"
          ]
        }
      ]
    },
    {
      "cell_type": "code",
      "source": [
        "E(X)"
      ],
      "metadata": {
        "colab": {
          "base_uri": "https://localhost:8080/",
          "height": 38
        },
        "id": "RQLWuXgnWpcx",
        "outputId": "f979aae8-21e7-40ff-8a7d-653bd2d84517"
      },
      "execution_count": 159,
      "outputs": [
        {
          "output_type": "execute_result",
          "data": {
            "text/plain": [
              "15"
            ],
            "text/latex": "$\\displaystyle 15$"
          },
          "metadata": {},
          "execution_count": 159
        }
      ]
    },
    {
      "cell_type": "markdown",
      "source": [
        "Using Scipy"
      ],
      "metadata": {
        "id": "bR82zKxaPIiW"
      }
    },
    {
      "cell_type": "code",
      "source": [
        "from scipy.stats import uniform"
      ],
      "metadata": {
        "id": "pJn6IiM6PEqo"
      },
      "execution_count": 140,
      "outputs": []
    },
    {
      "cell_type": "code",
      "source": [
        "a, b = 0, 30\n",
        "rv = uniform(a, b)"
      ],
      "metadata": {
        "id": "lyPNBQrKPaOg"
      },
      "execution_count": 164,
      "outputs": []
    },
    {
      "cell_type": "code",
      "source": [
        "mean, variance, skew, kurtosis = uniform.stats(loc=0, scale=30, moments=\"mvsk\")"
      ],
      "metadata": {
        "id": "L7LIjs8rRsQE"
      },
      "execution_count": 165,
      "outputs": []
    },
    {
      "cell_type": "code",
      "source": [
        "mean"
      ],
      "metadata": {
        "colab": {
          "base_uri": "https://localhost:8080/"
        },
        "id": "TQCDHVWVSyBs",
        "outputId": "3b42aaec-3325-40dd-e067-8ff982944e6b"
      },
      "execution_count": 166,
      "outputs": [
        {
          "output_type": "execute_result",
          "data": {
            "text/plain": [
              "array(15.)"
            ]
          },
          "metadata": {},
          "execution_count": 166
        }
      ]
    },
    {
      "cell_type": "code",
      "source": [
        "variance"
      ],
      "metadata": {
        "colab": {
          "base_uri": "https://localhost:8080/"
        },
        "id": "QGB5tOF3S4nc",
        "outputId": "59e790fe-f597-4be0-d881-ae4302bd8751"
      },
      "execution_count": 167,
      "outputs": [
        {
          "output_type": "execute_result",
          "data": {
            "text/plain": [
              "array(75.)"
            ]
          },
          "metadata": {},
          "execution_count": 167
        }
      ]
    }
  ]
}