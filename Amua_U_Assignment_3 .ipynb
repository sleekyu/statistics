{
  "nbformat": 4,
  "nbformat_minor": 0,
  "metadata": {
    "colab": {
      "provenance": []
    },
    "kernelspec": {
      "name": "python3",
      "display_name": "Python 3"
    },
    "language_info": {
      "name": "python"
    }
  },
  "cells": [
    {
      "cell_type": "code",
      "execution_count": 130,
      "metadata": {
        "id": "NTcdyWTjI2Ye"
      },
      "outputs": [],
      "source": [
        "import math\n",
        "import statistics\n",
        "import numpy as np\n",
        "import scipy.stats\n",
        "import pandas as pd\n",
        "import matplotlib.pyplot as plt\n",
        "import seaborn as sns\n",
        "from matplotlib.ticker import PercentFormatter"
      ]
    },
    {
      "cell_type": "markdown",
      "source": [
        "**Using the Four Methods Given in the Wikipedia Link to Obtain quartiles**"
      ],
      "metadata": {
        "id": "NwOnWXbEOYRi"
      }
    },
    {
      "cell_type": "markdown",
      "source": [
        "Given the following sample data of 11 observations:\n",
        "\n",
        "x = [-3, -2, 2, 3, 4, 5, 7, 9, 10, 12, 15]\n",
        "\n",
        "Calculate the quartiles using the four methods.\n",
        "\n",
        "**Method 1**\n",
        "\n",
        "First, we get the median of the ordered data set which is **5**. \n",
        "\n",
        "Next we split the same data x into two halves, leaving out the median because the length of x is odd.\n",
        "\n",
        "x1 = [-3, -2, 2, 3, 4]\n",
        "\n",
        "x2 = [7, 9, 10, 12, 15]\n",
        "\n",
        "To get the first quartile, we obtain the median of x1 which is **2**. \n",
        "To get the third quartile, we obtain the median of x2 which is **10**.\n",
        "\n",
        "The value of the quartiles is given as follows:\n",
        "\n",
        "First quartile, **Q1 = 2**\n",
        "\n",
        "Second quartile, **Q2 = 5**\n",
        "\n",
        "Third quartile **Q3 = 10**\n",
        "\n",
        "**Method 2**\n",
        "\n",
        "Here we include the median of the ordered data set x which is **5** in both halves.\n",
        "\n",
        "x1 = [-3, -2, 2, 3, 4, 5]\n",
        "\n",
        "x2 = [5, 7, 9, 10, 12, 15]\n",
        "\n",
        "To obtain the lower quartile, we get the the median of x1.\n",
        "\n",
        "Median x1 = (2 + 3)/2 = **2.5**\n",
        "\n",
        "To obtain the upper quartile, we get the median of x2.\n",
        "\n",
        "Median x2 = (9 + 10)/2 = **9.5**\n",
        "\n",
        "Therefore the quartiles are;\n",
        "\n",
        "Lower quartile, **Q1 = 2.5**\n",
        "\n",
        "Median, **Q2 = 5**\n",
        "\n",
        "Upper quartile, **Q3 = 9.5**\n",
        "\n",
        "**Method 3**\n",
        "\n",
        "There are 4n + 3 data points in our data set. To get n, we equate 4n + 3 to the number of observations in our data set.\n",
        "\n",
        "4n + 3 = 11\n",
        "\n",
        "4n = 8\n",
        "\n",
        "n = 2\n",
        "\n",
        "To get the lower quartile, we use the following equation to find the position:\n",
        "\n",
        "Q1 position = 0.75(n + 1) + 0.25(n + 2)\n",
        "            = 0.75(2 + 1) + 0.25(2 + 2)\n",
        "            = 2.25 + 1\n",
        "            = 3.25th position\n",
        "\n",
        "To get the upper quartile, we use the following equation to find the poaition: \n",
        "\n",
        "Q3 position = 0.25(3n + 2) + 0.75(3n + 3)\n",
        "            = 0.25(6 + 2)  + 0.75(6 + 3)\n",
        "            = 2 + 6.75\n",
        "            = 8.75th position\n",
        "\n",
        "Th lower quartile value at 3.25th position lies between the 3rd and 4th points. The value at position 3 is **2** and the value at position 4 is **3**.\n",
        "\n",
        "For the upper quartile, the value at the 8.75th position lies between the 8th and the 9th data points. The value at position 8 is **9** and the value at position 9 is **10**.\n",
        "\n",
        "We obtain the lower quartile **Q1**, middle quartile **Q2**, and upper quartile **Q3** thus:\n",
        "\n",
        "**Q1**        = 2 + 0.25(3 - 2)\n",
        "              = **2.25**\n",
        "\n",
        "Median, **Q2** = **5**\n",
        "\n",
        "**Q3**        = 9 + 0.75(10-9)\n",
        "              = **9.75**\n",
        "\n",
        "\n",
        "\n",
        "\n",
        "\n",
        "**Method 4**\n",
        "\n",
        "To obtain the 25th percentile, we first get the position of the value with the following equation; Q1 value = 0.25(n + 1)th position, n = 11. Q1 value = 0.25 * 12 = 3rd position. From the ordered data set x, the value at the 3rd position is **2**.\n",
        "\n",
        "The 50th percentile is the median value which is **5**.\n",
        "\n",
        "To obtain the 75th percentile, we first get the position of the value with the following equation; Q3 value = 0.25(n + 1)th position, n = 11. Q3 value = 0.75 * 12 = 9th position. From the ordered data set x, the value at the 9th position is **10**.\n",
        "\n",
        "25th percentile, **Q1 = 2**\n",
        "\n",
        "50th percentile, **Q2 = 5**\n",
        "\n",
        "75th percentile, **Q3 = 10**\n"
      ],
      "metadata": {
        "id": "kmEN681RLNYE"
      }
    },
    {
      "cell_type": "markdown",
      "source": [
        "**Obtaining the Quartiles Using Python Codes**"
      ],
      "metadata": {
        "id": "wdcDVV4hPldL"
      }
    },
    {
      "cell_type": "code",
      "source": [
        "#Defining the sample\n",
        "x = [-3, -2, 2, 3, 4, 5, 7, 9, 10, 12, 15]"
      ],
      "metadata": {
        "id": "Y7qmYlHrgvZ9"
      },
      "execution_count": 136,
      "outputs": []
    },
    {
      "cell_type": "code",
      "source": [
        "x"
      ],
      "metadata": {
        "colab": {
          "base_uri": "https://localhost:8080/"
        },
        "id": "Y_6YLM5Thug8",
        "outputId": "5b74fc51-ec1c-4a5e-eebd-9a0cef6ad3de"
      },
      "execution_count": null,
      "outputs": [
        {
          "output_type": "execute_result",
          "data": {
            "text/plain": [
              "[-3, -2, 2, 3, 4, 5, 7, 9, 10, 12, 15]"
            ]
          },
          "metadata": {},
          "execution_count": 4
        }
      ]
    },
    {
      "cell_type": "code",
      "source": [
        "#Using np.quantile to get quartiles and comparing the methods above\n",
        "quartiles = np.quantile(x, [0.25, 0.50, 0.75])\n",
        "#method 2 is used."
      ],
      "metadata": {
        "id": "MA3nfC9phvpE"
      },
      "execution_count": 135,
      "outputs": []
    },
    {
      "cell_type": "code",
      "source": [
        "quartiles"
      ],
      "metadata": {
        "colab": {
          "base_uri": "https://localhost:8080/"
        },
        "id": "Ueeza6vKkOwT",
        "outputId": "92c27440-1821-4269-e0b2-5abd1b991c49"
      },
      "execution_count": null,
      "outputs": [
        {
          "output_type": "execute_result",
          "data": {
            "text/plain": [
              "array([2.5, 5. , 9.5])"
            ]
          },
          "metadata": {},
          "execution_count": 6
        }
      ]
    },
    {
      "cell_type": "markdown",
      "source": [
        "**Method 1**"
      ],
      "metadata": {
        "id": "aysMUZZglJHF"
      }
    },
    {
      "cell_type": "code",
      "source": [
        "x"
      ],
      "metadata": {
        "colab": {
          "base_uri": "https://localhost:8080/"
        },
        "id": "we0JFckjy3P3",
        "outputId": "10c5750d-0c3b-4bb7-df46-d9394439bbd4"
      },
      "execution_count": null,
      "outputs": [
        {
          "output_type": "execute_result",
          "data": {
            "text/plain": [
              "[-3, -2, 2, 3, 4, 5, 7, 9, 10, 12, 15]"
            ]
          },
          "metadata": {},
          "execution_count": 7
        }
      ]
    },
    {
      "cell_type": "code",
      "source": [
        "n = len(x)"
      ],
      "metadata": {
        "id": "BlDnCRbYy6t4"
      },
      "execution_count": null,
      "outputs": []
    },
    {
      "cell_type": "code",
      "source": [
        "n"
      ],
      "metadata": {
        "colab": {
          "base_uri": "https://localhost:8080/"
        },
        "id": "YI_8wDIxzBVU",
        "outputId": "f1e5f015-ea6e-4676-a1a0-c3f7955dabcd"
      },
      "execution_count": null,
      "outputs": [
        {
          "output_type": "execute_result",
          "data": {
            "text/plain": [
              "11"
            ]
          },
          "metadata": {},
          "execution_count": 9
        }
      ]
    },
    {
      "cell_type": "code",
      "source": [
        "x1 = [-3, -2, 2, 3, 4]\n",
        "\n"
      ],
      "metadata": {
        "id": "Sry4EAw8lTIv"
      },
      "execution_count": null,
      "outputs": []
    },
    {
      "cell_type": "code",
      "source": [
        "x1\n"
      ],
      "metadata": {
        "colab": {
          "base_uri": "https://localhost:8080/"
        },
        "id": "Rxuiywry5s85",
        "outputId": "58566252-e412-4352-9187-549f532db621"
      },
      "execution_count": null,
      "outputs": [
        {
          "output_type": "execute_result",
          "data": {
            "text/plain": [
              "[-3, -2, 2, 3, 4]"
            ]
          },
          "metadata": {},
          "execution_count": 11
        }
      ]
    },
    {
      "cell_type": "code",
      "source": [
        "n1 = len(x1)"
      ],
      "metadata": {
        "id": "slo8YRHaBvk7"
      },
      "execution_count": null,
      "outputs": []
    },
    {
      "cell_type": "code",
      "source": [
        "n1"
      ],
      "metadata": {
        "colab": {
          "base_uri": "https://localhost:8080/"
        },
        "id": "7TGAkOr1B4vW",
        "outputId": "7e336b74-e963-4232-eda9-3a2a26a18a8c"
      },
      "execution_count": null,
      "outputs": [
        {
          "output_type": "execute_result",
          "data": {
            "text/plain": [
              "5"
            ]
          },
          "metadata": {},
          "execution_count": 13
        }
      ]
    },
    {
      "cell_type": "code",
      "source": [
        "x2 = [7, 9, 10, 12, 15]"
      ],
      "metadata": {
        "id": "CAxofwZBzYzw"
      },
      "execution_count": null,
      "outputs": []
    },
    {
      "cell_type": "code",
      "source": [
        "n2 = len(x2)"
      ],
      "metadata": {
        "id": "oQjhw8cl0LxA"
      },
      "execution_count": null,
      "outputs": []
    },
    {
      "cell_type": "code",
      "source": [
        "n2"
      ],
      "metadata": {
        "colab": {
          "base_uri": "https://localhost:8080/"
        },
        "id": "cRDpqXFY0UbQ",
        "outputId": "ed93be73-2e92-4c25-bb91-c7ebf3c1323a"
      },
      "execution_count": null,
      "outputs": [
        {
          "output_type": "execute_result",
          "data": {
            "text/plain": [
              "5"
            ]
          },
          "metadata": {},
          "execution_count": 16
        }
      ]
    },
    {
      "cell_type": "code",
      "source": [
        "i = 0\n",
        "quartiles_1_2_3 = lambda x, x1, x2: (x1[math.floor(n1/2)], x[math.floor(n/2)], x2[math.floor(n2/2)])\n",
        "\n"
      ],
      "metadata": {
        "id": "TloSkGwi_fkp"
      },
      "execution_count": null,
      "outputs": []
    },
    {
      "cell_type": "code",
      "source": [
        "quartiles_1_2_3(x, x1, x2)"
      ],
      "metadata": {
        "colab": {
          "base_uri": "https://localhost:8080/"
        },
        "id": "UGzNh8LvFKB7",
        "outputId": "eb93700a-e467-45ff-895e-e1b0fc64372e"
      },
      "execution_count": null,
      "outputs": [
        {
          "output_type": "execute_result",
          "data": {
            "text/plain": [
              "(2, 5, 10)"
            ]
          },
          "metadata": {},
          "execution_count": 18
        }
      ]
    },
    {
      "cell_type": "markdown",
      "source": [
        "**Method 2**"
      ],
      "metadata": {
        "id": "yo3PVx_mlT6v"
      }
    },
    {
      "cell_type": "code",
      "source": [
        "x3 = [-3, -2, 2, 3, 4, 5]"
      ],
      "metadata": {
        "id": "ZZb-1etpD5W8"
      },
      "execution_count": null,
      "outputs": []
    },
    {
      "cell_type": "code",
      "source": [
        "x3"
      ],
      "metadata": {
        "colab": {
          "base_uri": "https://localhost:8080/"
        },
        "id": "-tz1QbuTlaPC",
        "outputId": "b949f297-7417-4359-d07e-37a161dc99e2"
      },
      "execution_count": null,
      "outputs": [
        {
          "output_type": "execute_result",
          "data": {
            "text/plain": [
              "[-3, -2, 2, 3, 4, 5]"
            ]
          },
          "metadata": {},
          "execution_count": 82
        }
      ]
    },
    {
      "cell_type": "code",
      "source": [
        "n3 = len(x3)"
      ],
      "metadata": {
        "id": "8KnKImdSHGH-"
      },
      "execution_count": null,
      "outputs": []
    },
    {
      "cell_type": "code",
      "source": [
        "n3"
      ],
      "metadata": {
        "colab": {
          "base_uri": "https://localhost:8080/"
        },
        "id": "fgY8_x5kHNGX",
        "outputId": "ab780cc0-3077-434a-8190-29944372873d"
      },
      "execution_count": null,
      "outputs": [
        {
          "output_type": "execute_result",
          "data": {
            "text/plain": [
              "6"
            ]
          },
          "metadata": {},
          "execution_count": 21
        }
      ]
    },
    {
      "cell_type": "code",
      "source": [
        "first_quartile = 0.5 * (x3[math.floor(n3/2)-1] + x3[math.floor(n3/2)])"
      ],
      "metadata": {
        "id": "xIxUqgP1HQFK"
      },
      "execution_count": null,
      "outputs": []
    },
    {
      "cell_type": "code",
      "source": [
        "first_quartile"
      ],
      "metadata": {
        "colab": {
          "base_uri": "https://localhost:8080/"
        },
        "id": "ImlR1BSRINkz",
        "outputId": "f8baabd6-8cce-4472-d567-87e0e4345a85"
      },
      "execution_count": null,
      "outputs": [
        {
          "output_type": "execute_result",
          "data": {
            "text/plain": [
              "2.5"
            ]
          },
          "metadata": {},
          "execution_count": 23
        }
      ]
    },
    {
      "cell_type": "code",
      "source": [
        "second_quartile = x[math.floor(n/2)]"
      ],
      "metadata": {
        "id": "4GOgukMoYdxh"
      },
      "execution_count": null,
      "outputs": []
    },
    {
      "cell_type": "code",
      "source": [
        "second_quartile"
      ],
      "metadata": {
        "colab": {
          "base_uri": "https://localhost:8080/"
        },
        "id": "sXfI9hqjZH_b",
        "outputId": "2909004e-0c70-4a1f-d685-3a9da807946f"
      },
      "execution_count": null,
      "outputs": [
        {
          "output_type": "execute_result",
          "data": {
            "text/plain": [
              "5"
            ]
          },
          "metadata": {},
          "execution_count": 25
        }
      ]
    },
    {
      "cell_type": "code",
      "source": [
        "x4 = [5, 7, 9, 10, 12, 15]"
      ],
      "metadata": {
        "id": "4lxRgUf3ZQQs"
      },
      "execution_count": null,
      "outputs": []
    },
    {
      "cell_type": "code",
      "source": [
        "x4"
      ],
      "metadata": {
        "colab": {
          "base_uri": "https://localhost:8080/"
        },
        "id": "ELA9VZORZqEO",
        "outputId": "7a1bcd43-4815-4e38-9282-804ac969a6f0"
      },
      "execution_count": null,
      "outputs": [
        {
          "output_type": "execute_result",
          "data": {
            "text/plain": [
              "[5, 7, 9, 10, 12, 15]"
            ]
          },
          "metadata": {},
          "execution_count": 27
        }
      ]
    },
    {
      "cell_type": "code",
      "source": [
        "n4 = len(x4)"
      ],
      "metadata": {
        "id": "NacrWOUlbwQc"
      },
      "execution_count": null,
      "outputs": []
    },
    {
      "cell_type": "code",
      "source": [
        "n4"
      ],
      "metadata": {
        "colab": {
          "base_uri": "https://localhost:8080/"
        },
        "id": "klKTFlA9b6AH",
        "outputId": "19b073c4-4e61-4853-faa0-621efac77bcc"
      },
      "execution_count": null,
      "outputs": [
        {
          "output_type": "execute_result",
          "data": {
            "text/plain": [
              "6"
            ]
          },
          "metadata": {},
          "execution_count": 29
        }
      ]
    },
    {
      "cell_type": "code",
      "source": [
        "third_quartile = 0.5 * (x4[math.floor(n4/2)-1] + x4[math.floor(n4/2)])"
      ],
      "metadata": {
        "id": "LcFjY7wCZwYl"
      },
      "execution_count": null,
      "outputs": []
    },
    {
      "cell_type": "code",
      "source": [
        "third_quartile"
      ],
      "metadata": {
        "colab": {
          "base_uri": "https://localhost:8080/"
        },
        "id": "uF4EM6_bcIte",
        "outputId": "1297c928-1ca6-48fe-9d70-d202d51a4b61"
      },
      "execution_count": null,
      "outputs": [
        {
          "output_type": "execute_result",
          "data": {
            "text/plain": [
              "9.5"
            ]
          },
          "metadata": {},
          "execution_count": 31
        }
      ]
    },
    {
      "cell_type": "markdown",
      "source": [
        "**Method 3**"
      ],
      "metadata": {
        "id": "GNRL99uflbYM"
      }
    },
    {
      "cell_type": "code",
      "source": [
        "x"
      ],
      "metadata": {
        "id": "Mlr_h5EWHLod",
        "colab": {
          "base_uri": "https://localhost:8080/"
        },
        "outputId": "f1fd4efe-9cbd-4c17-bcfa-c2ed3157aedd"
      },
      "execution_count": null,
      "outputs": [
        {
          "output_type": "execute_result",
          "data": {
            "text/plain": [
              "[-3, -2, 2, 3, 4, 5, 7, 9, 10, 12, 15]"
            ]
          },
          "metadata": {},
          "execution_count": 32
        }
      ]
    },
    {
      "cell_type": "code",
      "source": [
        "n_1 = int((11 - 3)/4)"
      ],
      "metadata": {
        "id": "GHKdBhEMlk9h"
      },
      "execution_count": null,
      "outputs": []
    },
    {
      "cell_type": "code",
      "source": [
        "n_1"
      ],
      "metadata": {
        "colab": {
          "base_uri": "https://localhost:8080/"
        },
        "id": "pKpFLMujUpCd",
        "outputId": "9dc79e54-2ffb-4df8-aceb-c6a169942a2b"
      },
      "execution_count": null,
      "outputs": [
        {
          "output_type": "execute_result",
          "data": {
            "text/plain": [
              "2"
            ]
          },
          "metadata": {},
          "execution_count": 44
        }
      ]
    },
    {
      "cell_type": "code",
      "source": [
        "Ist_quartile = x[math.floor(0.75*(n_1 + 1) + 0.25*(n_1 + 2))] - 0.75"
      ],
      "metadata": {
        "id": "Ljh3Gz2Oga5g"
      },
      "execution_count": 144,
      "outputs": []
    },
    {
      "cell_type": "code",
      "source": [
        "Ist_quartile"
      ],
      "metadata": {
        "colab": {
          "base_uri": "https://localhost:8080/"
        },
        "id": "R-yz6KBniGgr",
        "outputId": "a8563fa4-f143-4df3-d1d8-aae68ebb65f5"
      },
      "execution_count": 145,
      "outputs": [
        {
          "output_type": "execute_result",
          "data": {
            "text/plain": [
              "2.25"
            ]
          },
          "metadata": {},
          "execution_count": 145
        }
      ]
    },
    {
      "cell_type": "code",
      "source": [
        "_2nd_quartile = x[math.floor(n/2)]"
      ],
      "metadata": {
        "id": "5ir3tLWjlBxk"
      },
      "execution_count": null,
      "outputs": []
    },
    {
      "cell_type": "code",
      "source": [
        "_2nd_quartile"
      ],
      "metadata": {
        "colab": {
          "base_uri": "https://localhost:8080/"
        },
        "id": "ep55MIoZlR8m",
        "outputId": "8eb7fdd4-c1bc-41cc-df13-7ec105fb42cb"
      },
      "execution_count": null,
      "outputs": [
        {
          "output_type": "execute_result",
          "data": {
            "text/plain": [
              "5"
            ]
          },
          "metadata": {},
          "execution_count": 59
        }
      ]
    },
    {
      "cell_type": "code",
      "source": [
        "_3rd_quartile = x[math.floor(0.25*(3*n_1 + 2) + 0.75*(3*n_1 + 3))] - 0.25"
      ],
      "metadata": {
        "id": "4JIKVUKNlX_h"
      },
      "execution_count": 65,
      "outputs": []
    },
    {
      "cell_type": "code",
      "source": [
        "_3rd_quartile"
      ],
      "metadata": {
        "colab": {
          "base_uri": "https://localhost:8080/"
        },
        "id": "GQGDZbv2o339",
        "outputId": "aefb28d5-70d1-4688-c59a-ed76c80f3f98"
      },
      "execution_count": 66,
      "outputs": [
        {
          "output_type": "execute_result",
          "data": {
            "text/plain": [
              "9.75"
            ]
          },
          "metadata": {},
          "execution_count": 66
        }
      ]
    },
    {
      "cell_type": "markdown",
      "source": [
        "**Method 4**"
      ],
      "metadata": {
        "id": "IQ3utYTollsx"
      }
    },
    {
      "cell_type": "code",
      "source": [
        "x"
      ],
      "metadata": {
        "colab": {
          "base_uri": "https://localhost:8080/"
        },
        "id": "7Zqtw-MClro6",
        "outputId": "a29bf535-1355-4a2c-a8b5-c40de4028ead"
      },
      "execution_count": null,
      "outputs": [
        {
          "output_type": "execute_result",
          "data": {
            "text/plain": [
              "[-3, -2, 2, 3, 4, 5, 7, 9, 10, 12, 15]"
            ]
          },
          "metadata": {},
          "execution_count": 52
        }
      ]
    },
    {
      "cell_type": "code",
      "source": [
        "n"
      ],
      "metadata": {
        "colab": {
          "base_uri": "https://localhost:8080/"
        },
        "id": "RC_3V4rvLrjq",
        "outputId": "4409795a-61c0-457a-89c5-f764485de594"
      },
      "execution_count": null,
      "outputs": [
        {
          "output_type": "execute_result",
          "data": {
            "text/plain": [
              "11"
            ]
          },
          "metadata": {},
          "execution_count": 53
        }
      ]
    },
    {
      "cell_type": "code",
      "source": [
        "i = 0\n",
        "Q1_2_3 = lambda x:(x[math.floor(0.25*(n+1))-1], x[math.floor(0.50*(n+1))-1], x[math.floor(0.75*(n+1))-1])"
      ],
      "metadata": {
        "id": "ITfCjoRBMJET"
      },
      "execution_count": null,
      "outputs": []
    },
    {
      "cell_type": "code",
      "source": [
        "Q1_2_3(x)"
      ],
      "metadata": {
        "colab": {
          "base_uri": "https://localhost:8080/"
        },
        "id": "YbQ5DJdxOajB",
        "outputId": "5a109e51-63d6-4b06-b42e-357e84643a09"
      },
      "execution_count": null,
      "outputs": [
        {
          "output_type": "execute_result",
          "data": {
            "text/plain": [
              "(2, 5, 10)"
            ]
          },
          "metadata": {},
          "execution_count": 80
        }
      ]
    },
    {
      "cell_type": "markdown",
      "source": [
        "This Section Talks About **Weighted Mean**, **Harmonic Mean**, and **Geometric Mean** With Some **Examples**"
      ],
      "metadata": {
        "id": "fSoIbLaKUXC5"
      }
    },
    {
      "cell_type": "markdown",
      "source": [
        "**Weighted Mean**\n",
        "\n",
        "In a normal arithmetic mean, all the data points carry equal weight. What this means is that each of the data points contributes equally to the outcome of the total mean. In a weighted mean however, some data points carry more weight or probability than others and therefore contributes more to the outcome of the total mean. In this type of average, weights assign individual values to determine the relative importance of each data point. To calculate the weighted mean, the sum of the product of each data point and their respective weights is divided by the total weight if total weight is greater than 1.\n",
        "\n",
        "WM = Summation(xi * wi) if total weight == 1 or,\n",
        "\n",
        "WM = Summation(xi * wi)/summation(wi) if total weight > 1\n",
        "\n",
        "Where:\n",
        "\n",
        "xi = value of individual observations\n",
        "\n",
        "wi = value of individual weights\n",
        "\n",
        "**Harmonic Mean**\n",
        "\n",
        "In this type of numerical average, the total number of observations n is divided by the sum of the reciprocity of individual entries. It can be said to be the reciprocal of the arithmetic mean. The harmonic mean is often useful in calculating average rates or ratios. \n",
        "\n",
        "The harmonic mean of a data set of n number of observations X1, X2, X3,..., Xn is given as:\n",
        "\n",
        "HM = n/(1/X1 + 1/X2 + 1/X3 + ... + Xn)\n",
        "\n",
        "Where:\n",
        "\n",
        "n = total number of observations or sample size\n",
        "X1, X2, X3 = value of variable X at point 1, 2, and 3 respectvely\n",
        "Xn = value of variable X at the nth position\n",
        "\n",
        "**Geometric Mean**\n",
        "\n",
        "The Geometric mean is a type of average that is derived by taking the nth root of the product of n observations. Here, instead of summing the individual observations, we multiply them and take their nth root.\n",
        "\n",
        "The geometric mean of n number of observation x1,x2,...,xn is defined as follows:\n",
        "\n",
        "GM = (x1x2...xn)**1/n\n",
        "\n",
        "Where:\n",
        "n = number of observations\n",
        "x1,x2,xn = value of observations at 1, 2, and nth positions respectively.\n"
      ],
      "metadata": {
        "id": "zkEL9aHUfGEB"
      }
    },
    {
      "cell_type": "code",
      "source": [
        "#Defining the Sample\n",
        "sample = [60, 84, 65, 67, 75, 72, 80, 85, 63, 82, 70, 75]"
      ],
      "metadata": {
        "id": "Ac5DKUEWewLC"
      },
      "execution_count": 146,
      "outputs": []
    },
    {
      "cell_type": "code",
      "source": [
        "sample"
      ],
      "metadata": {
        "colab": {
          "base_uri": "https://localhost:8080/"
        },
        "id": "LjnwsxJogdrM",
        "outputId": "d91521b6-b6c4-4569-c584-63bf7faba406"
      },
      "execution_count": 147,
      "outputs": [
        {
          "output_type": "execute_result",
          "data": {
            "text/plain": [
              "[60, 84, 65, 67, 75, 72, 80, 85, 63, 82, 70, 75]"
            ]
          },
          "metadata": {},
          "execution_count": 147
        }
      ]
    },
    {
      "cell_type": "code",
      "source": [
        "n_sample = len(sample)"
      ],
      "metadata": {
        "id": "tdh8EPccgiKr"
      },
      "execution_count": 148,
      "outputs": []
    },
    {
      "cell_type": "code",
      "source": [
        "n_sample"
      ],
      "metadata": {
        "colab": {
          "base_uri": "https://localhost:8080/"
        },
        "id": "a6-wN7ETj8f0",
        "outputId": "407a2863-424a-4c46-8cce-b65137b72c26"
      },
      "execution_count": 149,
      "outputs": [
        {
          "output_type": "execute_result",
          "data": {
            "text/plain": [
              "12"
            ]
          },
          "metadata": {},
          "execution_count": 149
        }
      ]
    },
    {
      "cell_type": "code",
      "source": [
        "#Weighted mean is equal to arithmetic mean when all the data points have the same weight.\n",
        "\n",
        "weighted_mean = lambda sample: sum(sample)/n_sample"
      ],
      "metadata": {
        "id": "rOhvDNls2e2F"
      },
      "execution_count": 150,
      "outputs": []
    },
    {
      "cell_type": "code",
      "source": [
        "weighted_mean(sample)"
      ],
      "metadata": {
        "colab": {
          "base_uri": "https://localhost:8080/"
        },
        "id": "nJaQKok84_xU",
        "outputId": "46bffe59-d7b1-4e39-d133-a53cadf97674"
      },
      "execution_count": 151,
      "outputs": [
        {
          "output_type": "execute_result",
          "data": {
            "text/plain": [
              "73.16666666666667"
            ]
          },
          "metadata": {},
          "execution_count": 151
        }
      ]
    },
    {
      "cell_type": "code",
      "source": [
        "#Harmonic mean is the inverse of arithmetic mean\n",
        "harmonic_mean = lambda sample: n_sample/sum(sample)"
      ],
      "metadata": {
        "id": "FHR8mGBG7XMy"
      },
      "execution_count": 153,
      "outputs": []
    },
    {
      "cell_type": "code",
      "source": [
        "harmonic_mean(sample)"
      ],
      "metadata": {
        "colab": {
          "base_uri": "https://localhost:8080/"
        },
        "id": "uagoHUUq8G43",
        "outputId": "c368b900-3968-4075-e14a-a9475f58bdf6"
      },
      "execution_count": 154,
      "outputs": [
        {
          "output_type": "execute_result",
          "data": {
            "text/plain": [
              "0.01366742596810934"
            ]
          },
          "metadata": {},
          "execution_count": 154
        }
      ]
    },
    {
      "cell_type": "code",
      "source": [
        "#A function that takes in a list and calculates geometric mean\n",
        "def geometric_mean(list):\n",
        "    count = 1\n",
        "    for i in range (0, len(list)):\n",
        "        count = count * list[i]\n",
        "    return count ** (1/n_sample)"
      ],
      "metadata": {
        "id": "7OKgx29-Lm8y"
      },
      "execution_count": 155,
      "outputs": []
    },
    {
      "cell_type": "code",
      "source": [
        "geometric_mean(sample)"
      ],
      "metadata": {
        "colab": {
          "base_uri": "https://localhost:8080/"
        },
        "id": "f0i9f9WV8acp",
        "outputId": "e2fb77aa-ed50-4265-8b6d-bd7ad6001dbd"
      },
      "execution_count": 156,
      "outputs": [
        {
          "output_type": "execute_result",
          "data": {
            "text/plain": [
              "72.71705068737829"
            ]
          },
          "metadata": {},
          "execution_count": 156
        }
      ]
    },
    {
      "cell_type": "markdown",
      "source": [
        "**Pareto Chart** From the Given **Temperature Data**"
      ],
      "metadata": {
        "id": "FBTXAtVtV6WA"
      }
    },
    {
      "cell_type": "code",
      "source": [
        "daily_high_temp = ({\"Temperature\": [24, 35, 17, 21, 24, 37, 26, 46, 58, 30, 32, 13, 12, 38, 41, 43, 44, 27, 53, 27] })"
      ],
      "metadata": {
        "id": "3CV3-k8Hb0-t"
      },
      "execution_count": 157,
      "outputs": []
    },
    {
      "cell_type": "code",
      "source": [
        "temp_df = pd.DataFrame(daily_high_temp, index = [\"Day1\", \"Day2\", \"Day3\", \"Day4\", \"Day5\", \"Day6\", \"Day7\", \"Day8\", \"Day9\", \"Day10\",\\\n",
        "                                                 \"Day11\", \"Day12\", \"Day13\", \"Day14\", \"Day15\", \"Day16\", \"Day17\", \"Day18\", \"Day19\", \"Day20\"])"
      ],
      "metadata": {
        "id": "6eJ5W0vqfa46"
      },
      "execution_count": 158,
      "outputs": []
    },
    {
      "cell_type": "code",
      "source": [
        "temp_df"
      ],
      "metadata": {
        "colab": {
          "base_uri": "https://localhost:8080/",
          "height": 676
        },
        "id": "znjBSDVLhQkj",
        "outputId": "a9a5118e-5cc5-4c8a-8823-ffb8c8a5b7b6"
      },
      "execution_count": 159,
      "outputs": [
        {
          "output_type": "execute_result",
          "data": {
            "text/plain": [
              "       Temperature\n",
              "Day1            24\n",
              "Day2            35\n",
              "Day3            17\n",
              "Day4            21\n",
              "Day5            24\n",
              "Day6            37\n",
              "Day7            26\n",
              "Day8            46\n",
              "Day9            58\n",
              "Day10           30\n",
              "Day11           32\n",
              "Day12           13\n",
              "Day13           12\n",
              "Day14           38\n",
              "Day15           41\n",
              "Day16           43\n",
              "Day17           44\n",
              "Day18           27\n",
              "Day19           53\n",
              "Day20           27"
            ],
            "text/html": [
              "\n",
              "  <div id=\"df-8905a370-3ee6-4540-9ddd-3bab17da0c2c\">\n",
              "    <div class=\"colab-df-container\">\n",
              "      <div>\n",
              "<style scoped>\n",
              "    .dataframe tbody tr th:only-of-type {\n",
              "        vertical-align: middle;\n",
              "    }\n",
              "\n",
              "    .dataframe tbody tr th {\n",
              "        vertical-align: top;\n",
              "    }\n",
              "\n",
              "    .dataframe thead th {\n",
              "        text-align: right;\n",
              "    }\n",
              "</style>\n",
              "<table border=\"1\" class=\"dataframe\">\n",
              "  <thead>\n",
              "    <tr style=\"text-align: right;\">\n",
              "      <th></th>\n",
              "      <th>Temperature</th>\n",
              "    </tr>\n",
              "  </thead>\n",
              "  <tbody>\n",
              "    <tr>\n",
              "      <th>Day1</th>\n",
              "      <td>24</td>\n",
              "    </tr>\n",
              "    <tr>\n",
              "      <th>Day2</th>\n",
              "      <td>35</td>\n",
              "    </tr>\n",
              "    <tr>\n",
              "      <th>Day3</th>\n",
              "      <td>17</td>\n",
              "    </tr>\n",
              "    <tr>\n",
              "      <th>Day4</th>\n",
              "      <td>21</td>\n",
              "    </tr>\n",
              "    <tr>\n",
              "      <th>Day5</th>\n",
              "      <td>24</td>\n",
              "    </tr>\n",
              "    <tr>\n",
              "      <th>Day6</th>\n",
              "      <td>37</td>\n",
              "    </tr>\n",
              "    <tr>\n",
              "      <th>Day7</th>\n",
              "      <td>26</td>\n",
              "    </tr>\n",
              "    <tr>\n",
              "      <th>Day8</th>\n",
              "      <td>46</td>\n",
              "    </tr>\n",
              "    <tr>\n",
              "      <th>Day9</th>\n",
              "      <td>58</td>\n",
              "    </tr>\n",
              "    <tr>\n",
              "      <th>Day10</th>\n",
              "      <td>30</td>\n",
              "    </tr>\n",
              "    <tr>\n",
              "      <th>Day11</th>\n",
              "      <td>32</td>\n",
              "    </tr>\n",
              "    <tr>\n",
              "      <th>Day12</th>\n",
              "      <td>13</td>\n",
              "    </tr>\n",
              "    <tr>\n",
              "      <th>Day13</th>\n",
              "      <td>12</td>\n",
              "    </tr>\n",
              "    <tr>\n",
              "      <th>Day14</th>\n",
              "      <td>38</td>\n",
              "    </tr>\n",
              "    <tr>\n",
              "      <th>Day15</th>\n",
              "      <td>41</td>\n",
              "    </tr>\n",
              "    <tr>\n",
              "      <th>Day16</th>\n",
              "      <td>43</td>\n",
              "    </tr>\n",
              "    <tr>\n",
              "      <th>Day17</th>\n",
              "      <td>44</td>\n",
              "    </tr>\n",
              "    <tr>\n",
              "      <th>Day18</th>\n",
              "      <td>27</td>\n",
              "    </tr>\n",
              "    <tr>\n",
              "      <th>Day19</th>\n",
              "      <td>53</td>\n",
              "    </tr>\n",
              "    <tr>\n",
              "      <th>Day20</th>\n",
              "      <td>27</td>\n",
              "    </tr>\n",
              "  </tbody>\n",
              "</table>\n",
              "</div>\n",
              "      <button class=\"colab-df-convert\" onclick=\"convertToInteractive('df-8905a370-3ee6-4540-9ddd-3bab17da0c2c')\"\n",
              "              title=\"Convert this dataframe to an interactive table.\"\n",
              "              style=\"display:none;\">\n",
              "        \n",
              "  <svg xmlns=\"http://www.w3.org/2000/svg\" height=\"24px\"viewBox=\"0 0 24 24\"\n",
              "       width=\"24px\">\n",
              "    <path d=\"M0 0h24v24H0V0z\" fill=\"none\"/>\n",
              "    <path d=\"M18.56 5.44l.94 2.06.94-2.06 2.06-.94-2.06-.94-.94-2.06-.94 2.06-2.06.94zm-11 1L8.5 8.5l.94-2.06 2.06-.94-2.06-.94L8.5 2.5l-.94 2.06-2.06.94zm10 10l.94 2.06.94-2.06 2.06-.94-2.06-.94-.94-2.06-.94 2.06-2.06.94z\"/><path d=\"M17.41 7.96l-1.37-1.37c-.4-.4-.92-.59-1.43-.59-.52 0-1.04.2-1.43.59L10.3 9.45l-7.72 7.72c-.78.78-.78 2.05 0 2.83L4 21.41c.39.39.9.59 1.41.59.51 0 1.02-.2 1.41-.59l7.78-7.78 2.81-2.81c.8-.78.8-2.07 0-2.86zM5.41 20L4 18.59l7.72-7.72 1.47 1.35L5.41 20z\"/>\n",
              "  </svg>\n",
              "      </button>\n",
              "      \n",
              "  <style>\n",
              "    .colab-df-container {\n",
              "      display:flex;\n",
              "      flex-wrap:wrap;\n",
              "      gap: 12px;\n",
              "    }\n",
              "\n",
              "    .colab-df-convert {\n",
              "      background-color: #E8F0FE;\n",
              "      border: none;\n",
              "      border-radius: 50%;\n",
              "      cursor: pointer;\n",
              "      display: none;\n",
              "      fill: #1967D2;\n",
              "      height: 32px;\n",
              "      padding: 0 0 0 0;\n",
              "      width: 32px;\n",
              "    }\n",
              "\n",
              "    .colab-df-convert:hover {\n",
              "      background-color: #E2EBFA;\n",
              "      box-shadow: 0px 1px 2px rgba(60, 64, 67, 0.3), 0px 1px 3px 1px rgba(60, 64, 67, 0.15);\n",
              "      fill: #174EA6;\n",
              "    }\n",
              "\n",
              "    [theme=dark] .colab-df-convert {\n",
              "      background-color: #3B4455;\n",
              "      fill: #D2E3FC;\n",
              "    }\n",
              "\n",
              "    [theme=dark] .colab-df-convert:hover {\n",
              "      background-color: #434B5C;\n",
              "      box-shadow: 0px 1px 3px 1px rgba(0, 0, 0, 0.15);\n",
              "      filter: drop-shadow(0px 1px 2px rgba(0, 0, 0, 0.3));\n",
              "      fill: #FFFFFF;\n",
              "    }\n",
              "  </style>\n",
              "\n",
              "      <script>\n",
              "        const buttonEl =\n",
              "          document.querySelector('#df-8905a370-3ee6-4540-9ddd-3bab17da0c2c button.colab-df-convert');\n",
              "        buttonEl.style.display =\n",
              "          google.colab.kernel.accessAllowed ? 'block' : 'none';\n",
              "\n",
              "        async function convertToInteractive(key) {\n",
              "          const element = document.querySelector('#df-8905a370-3ee6-4540-9ddd-3bab17da0c2c');\n",
              "          const dataTable =\n",
              "            await google.colab.kernel.invokeFunction('convertToInteractive',\n",
              "                                                     [key], {});\n",
              "          if (!dataTable) return;\n",
              "\n",
              "          const docLinkHtml = 'Like what you see? Visit the ' +\n",
              "            '<a target=\"_blank\" href=https://colab.research.google.com/notebooks/data_table.ipynb>data table notebook</a>'\n",
              "            + ' to learn more about interactive tables.';\n",
              "          element.innerHTML = '';\n",
              "          dataTable['output_type'] = 'display_data';\n",
              "          await google.colab.output.renderOutput(dataTable, element);\n",
              "          const docLink = document.createElement('div');\n",
              "          docLink.innerHTML = docLinkHtml;\n",
              "          element.appendChild(docLink);\n",
              "        }\n",
              "      </script>\n",
              "    </div>\n",
              "  </div>\n",
              "  "
            ]
          },
          "metadata": {},
          "execution_count": 159
        }
      ]
    },
    {
      "cell_type": "code",
      "source": [
        "#Sorting data in descending order\n",
        "temp_df = temp_df.sort_values(by=\"Temperature\", ascending = False)"
      ],
      "metadata": {
        "id": "VSo1xfAih3i8"
      },
      "execution_count": 160,
      "outputs": []
    },
    {
      "cell_type": "code",
      "source": [
        "temp_df"
      ],
      "metadata": {
        "colab": {
          "base_uri": "https://localhost:8080/",
          "height": 676
        },
        "id": "-4AIq4ioiHP9",
        "outputId": "9358036e-c9ae-4c60-9a56-dbac2b716da7"
      },
      "execution_count": 161,
      "outputs": [
        {
          "output_type": "execute_result",
          "data": {
            "text/plain": [
              "       Temperature\n",
              "Day9            58\n",
              "Day19           53\n",
              "Day8            46\n",
              "Day17           44\n",
              "Day16           43\n",
              "Day15           41\n",
              "Day14           38\n",
              "Day6            37\n",
              "Day2            35\n",
              "Day11           32\n",
              "Day10           30\n",
              "Day18           27\n",
              "Day20           27\n",
              "Day7            26\n",
              "Day5            24\n",
              "Day1            24\n",
              "Day4            21\n",
              "Day3            17\n",
              "Day12           13\n",
              "Day13           12"
            ],
            "text/html": [
              "\n",
              "  <div id=\"df-b1798049-4a1e-4a84-8c0e-6118253d287b\">\n",
              "    <div class=\"colab-df-container\">\n",
              "      <div>\n",
              "<style scoped>\n",
              "    .dataframe tbody tr th:only-of-type {\n",
              "        vertical-align: middle;\n",
              "    }\n",
              "\n",
              "    .dataframe tbody tr th {\n",
              "        vertical-align: top;\n",
              "    }\n",
              "\n",
              "    .dataframe thead th {\n",
              "        text-align: right;\n",
              "    }\n",
              "</style>\n",
              "<table border=\"1\" class=\"dataframe\">\n",
              "  <thead>\n",
              "    <tr style=\"text-align: right;\">\n",
              "      <th></th>\n",
              "      <th>Temperature</th>\n",
              "    </tr>\n",
              "  </thead>\n",
              "  <tbody>\n",
              "    <tr>\n",
              "      <th>Day9</th>\n",
              "      <td>58</td>\n",
              "    </tr>\n",
              "    <tr>\n",
              "      <th>Day19</th>\n",
              "      <td>53</td>\n",
              "    </tr>\n",
              "    <tr>\n",
              "      <th>Day8</th>\n",
              "      <td>46</td>\n",
              "    </tr>\n",
              "    <tr>\n",
              "      <th>Day17</th>\n",
              "      <td>44</td>\n",
              "    </tr>\n",
              "    <tr>\n",
              "      <th>Day16</th>\n",
              "      <td>43</td>\n",
              "    </tr>\n",
              "    <tr>\n",
              "      <th>Day15</th>\n",
              "      <td>41</td>\n",
              "    </tr>\n",
              "    <tr>\n",
              "      <th>Day14</th>\n",
              "      <td>38</td>\n",
              "    </tr>\n",
              "    <tr>\n",
              "      <th>Day6</th>\n",
              "      <td>37</td>\n",
              "    </tr>\n",
              "    <tr>\n",
              "      <th>Day2</th>\n",
              "      <td>35</td>\n",
              "    </tr>\n",
              "    <tr>\n",
              "      <th>Day11</th>\n",
              "      <td>32</td>\n",
              "    </tr>\n",
              "    <tr>\n",
              "      <th>Day10</th>\n",
              "      <td>30</td>\n",
              "    </tr>\n",
              "    <tr>\n",
              "      <th>Day18</th>\n",
              "      <td>27</td>\n",
              "    </tr>\n",
              "    <tr>\n",
              "      <th>Day20</th>\n",
              "      <td>27</td>\n",
              "    </tr>\n",
              "    <tr>\n",
              "      <th>Day7</th>\n",
              "      <td>26</td>\n",
              "    </tr>\n",
              "    <tr>\n",
              "      <th>Day5</th>\n",
              "      <td>24</td>\n",
              "    </tr>\n",
              "    <tr>\n",
              "      <th>Day1</th>\n",
              "      <td>24</td>\n",
              "    </tr>\n",
              "    <tr>\n",
              "      <th>Day4</th>\n",
              "      <td>21</td>\n",
              "    </tr>\n",
              "    <tr>\n",
              "      <th>Day3</th>\n",
              "      <td>17</td>\n",
              "    </tr>\n",
              "    <tr>\n",
              "      <th>Day12</th>\n",
              "      <td>13</td>\n",
              "    </tr>\n",
              "    <tr>\n",
              "      <th>Day13</th>\n",
              "      <td>12</td>\n",
              "    </tr>\n",
              "  </tbody>\n",
              "</table>\n",
              "</div>\n",
              "      <button class=\"colab-df-convert\" onclick=\"convertToInteractive('df-b1798049-4a1e-4a84-8c0e-6118253d287b')\"\n",
              "              title=\"Convert this dataframe to an interactive table.\"\n",
              "              style=\"display:none;\">\n",
              "        \n",
              "  <svg xmlns=\"http://www.w3.org/2000/svg\" height=\"24px\"viewBox=\"0 0 24 24\"\n",
              "       width=\"24px\">\n",
              "    <path d=\"M0 0h24v24H0V0z\" fill=\"none\"/>\n",
              "    <path d=\"M18.56 5.44l.94 2.06.94-2.06 2.06-.94-2.06-.94-.94-2.06-.94 2.06-2.06.94zm-11 1L8.5 8.5l.94-2.06 2.06-.94-2.06-.94L8.5 2.5l-.94 2.06-2.06.94zm10 10l.94 2.06.94-2.06 2.06-.94-2.06-.94-.94-2.06-.94 2.06-2.06.94z\"/><path d=\"M17.41 7.96l-1.37-1.37c-.4-.4-.92-.59-1.43-.59-.52 0-1.04.2-1.43.59L10.3 9.45l-7.72 7.72c-.78.78-.78 2.05 0 2.83L4 21.41c.39.39.9.59 1.41.59.51 0 1.02-.2 1.41-.59l7.78-7.78 2.81-2.81c.8-.78.8-2.07 0-2.86zM5.41 20L4 18.59l7.72-7.72 1.47 1.35L5.41 20z\"/>\n",
              "  </svg>\n",
              "      </button>\n",
              "      \n",
              "  <style>\n",
              "    .colab-df-container {\n",
              "      display:flex;\n",
              "      flex-wrap:wrap;\n",
              "      gap: 12px;\n",
              "    }\n",
              "\n",
              "    .colab-df-convert {\n",
              "      background-color: #E8F0FE;\n",
              "      border: none;\n",
              "      border-radius: 50%;\n",
              "      cursor: pointer;\n",
              "      display: none;\n",
              "      fill: #1967D2;\n",
              "      height: 32px;\n",
              "      padding: 0 0 0 0;\n",
              "      width: 32px;\n",
              "    }\n",
              "\n",
              "    .colab-df-convert:hover {\n",
              "      background-color: #E2EBFA;\n",
              "      box-shadow: 0px 1px 2px rgba(60, 64, 67, 0.3), 0px 1px 3px 1px rgba(60, 64, 67, 0.15);\n",
              "      fill: #174EA6;\n",
              "    }\n",
              "\n",
              "    [theme=dark] .colab-df-convert {\n",
              "      background-color: #3B4455;\n",
              "      fill: #D2E3FC;\n",
              "    }\n",
              "\n",
              "    [theme=dark] .colab-df-convert:hover {\n",
              "      background-color: #434B5C;\n",
              "      box-shadow: 0px 1px 3px 1px rgba(0, 0, 0, 0.15);\n",
              "      filter: drop-shadow(0px 1px 2px rgba(0, 0, 0, 0.3));\n",
              "      fill: #FFFFFF;\n",
              "    }\n",
              "  </style>\n",
              "\n",
              "      <script>\n",
              "        const buttonEl =\n",
              "          document.querySelector('#df-b1798049-4a1e-4a84-8c0e-6118253d287b button.colab-df-convert');\n",
              "        buttonEl.style.display =\n",
              "          google.colab.kernel.accessAllowed ? 'block' : 'none';\n",
              "\n",
              "        async function convertToInteractive(key) {\n",
              "          const element = document.querySelector('#df-b1798049-4a1e-4a84-8c0e-6118253d287b');\n",
              "          const dataTable =\n",
              "            await google.colab.kernel.invokeFunction('convertToInteractive',\n",
              "                                                     [key], {});\n",
              "          if (!dataTable) return;\n",
              "\n",
              "          const docLinkHtml = 'Like what you see? Visit the ' +\n",
              "            '<a target=\"_blank\" href=https://colab.research.google.com/notebooks/data_table.ipynb>data table notebook</a>'\n",
              "            + ' to learn more about interactive tables.';\n",
              "          element.innerHTML = '';\n",
              "          dataTable['output_type'] = 'display_data';\n",
              "          await google.colab.output.renderOutput(dataTable, element);\n",
              "          const docLink = document.createElement('div');\n",
              "          docLink.innerHTML = docLinkHtml;\n",
              "          element.appendChild(docLink);\n",
              "        }\n",
              "      </script>\n",
              "    </div>\n",
              "  </div>\n",
              "  "
            ]
          },
          "metadata": {},
          "execution_count": 161
        }
      ]
    },
    {
      "cell_type": "code",
      "source": [
        "temp_df[\"Cumulative Percent\"] = temp_df[\"Temperature\"].cumsum()/temp_df[\"Temperature\"].sum() * 100"
      ],
      "metadata": {
        "id": "bZAfpuxcj3WK"
      },
      "execution_count": 162,
      "outputs": []
    },
    {
      "cell_type": "code",
      "source": [
        "temp_df"
      ],
      "metadata": {
        "colab": {
          "base_uri": "https://localhost:8080/",
          "height": 676
        },
        "id": "ls9GxSkglg2h",
        "outputId": "ead21a60-bc92-4d2e-d2ff-06dede54432b"
      },
      "execution_count": null,
      "outputs": [
        {
          "output_type": "execute_result",
          "data": {
            "text/plain": [
              "       Temperature  Cumulative Percent\n",
              "Day9            58            8.950617\n",
              "Day19           53           17.129630\n",
              "Day8            46           24.228395\n",
              "Day17           44           31.018519\n",
              "Day16           43           37.654321\n",
              "Day15           41           43.981481\n",
              "Day14           38           49.845679\n",
              "Day6            37           55.555556\n",
              "Day2            35           60.956790\n",
              "Day11           32           65.895062\n",
              "Day10           30           70.524691\n",
              "Day20           27           74.691358\n",
              "Day18           27           78.858025\n",
              "Day7            26           82.870370\n",
              "Day5            24           86.574074\n",
              "Day1            24           90.277778\n",
              "Day4            21           93.518519\n",
              "Day3            17           96.141975\n",
              "Day12           13           98.148148\n",
              "Day13           12          100.000000"
            ],
            "text/html": [
              "\n",
              "  <div id=\"df-91811885-17e1-46c3-92d4-cd7c4987f7e7\">\n",
              "    <div class=\"colab-df-container\">\n",
              "      <div>\n",
              "<style scoped>\n",
              "    .dataframe tbody tr th:only-of-type {\n",
              "        vertical-align: middle;\n",
              "    }\n",
              "\n",
              "    .dataframe tbody tr th {\n",
              "        vertical-align: top;\n",
              "    }\n",
              "\n",
              "    .dataframe thead th {\n",
              "        text-align: right;\n",
              "    }\n",
              "</style>\n",
              "<table border=\"1\" class=\"dataframe\">\n",
              "  <thead>\n",
              "    <tr style=\"text-align: right;\">\n",
              "      <th></th>\n",
              "      <th>Temperature</th>\n",
              "      <th>Cumulative Percent</th>\n",
              "    </tr>\n",
              "  </thead>\n",
              "  <tbody>\n",
              "    <tr>\n",
              "      <th>Day9</th>\n",
              "      <td>58</td>\n",
              "      <td>8.950617</td>\n",
              "    </tr>\n",
              "    <tr>\n",
              "      <th>Day19</th>\n",
              "      <td>53</td>\n",
              "      <td>17.129630</td>\n",
              "    </tr>\n",
              "    <tr>\n",
              "      <th>Day8</th>\n",
              "      <td>46</td>\n",
              "      <td>24.228395</td>\n",
              "    </tr>\n",
              "    <tr>\n",
              "      <th>Day17</th>\n",
              "      <td>44</td>\n",
              "      <td>31.018519</td>\n",
              "    </tr>\n",
              "    <tr>\n",
              "      <th>Day16</th>\n",
              "      <td>43</td>\n",
              "      <td>37.654321</td>\n",
              "    </tr>\n",
              "    <tr>\n",
              "      <th>Day15</th>\n",
              "      <td>41</td>\n",
              "      <td>43.981481</td>\n",
              "    </tr>\n",
              "    <tr>\n",
              "      <th>Day14</th>\n",
              "      <td>38</td>\n",
              "      <td>49.845679</td>\n",
              "    </tr>\n",
              "    <tr>\n",
              "      <th>Day6</th>\n",
              "      <td>37</td>\n",
              "      <td>55.555556</td>\n",
              "    </tr>\n",
              "    <tr>\n",
              "      <th>Day2</th>\n",
              "      <td>35</td>\n",
              "      <td>60.956790</td>\n",
              "    </tr>\n",
              "    <tr>\n",
              "      <th>Day11</th>\n",
              "      <td>32</td>\n",
              "      <td>65.895062</td>\n",
              "    </tr>\n",
              "    <tr>\n",
              "      <th>Day10</th>\n",
              "      <td>30</td>\n",
              "      <td>70.524691</td>\n",
              "    </tr>\n",
              "    <tr>\n",
              "      <th>Day20</th>\n",
              "      <td>27</td>\n",
              "      <td>74.691358</td>\n",
              "    </tr>\n",
              "    <tr>\n",
              "      <th>Day18</th>\n",
              "      <td>27</td>\n",
              "      <td>78.858025</td>\n",
              "    </tr>\n",
              "    <tr>\n",
              "      <th>Day7</th>\n",
              "      <td>26</td>\n",
              "      <td>82.870370</td>\n",
              "    </tr>\n",
              "    <tr>\n",
              "      <th>Day5</th>\n",
              "      <td>24</td>\n",
              "      <td>86.574074</td>\n",
              "    </tr>\n",
              "    <tr>\n",
              "      <th>Day1</th>\n",
              "      <td>24</td>\n",
              "      <td>90.277778</td>\n",
              "    </tr>\n",
              "    <tr>\n",
              "      <th>Day4</th>\n",
              "      <td>21</td>\n",
              "      <td>93.518519</td>\n",
              "    </tr>\n",
              "    <tr>\n",
              "      <th>Day3</th>\n",
              "      <td>17</td>\n",
              "      <td>96.141975</td>\n",
              "    </tr>\n",
              "    <tr>\n",
              "      <th>Day12</th>\n",
              "      <td>13</td>\n",
              "      <td>98.148148</td>\n",
              "    </tr>\n",
              "    <tr>\n",
              "      <th>Day13</th>\n",
              "      <td>12</td>\n",
              "      <td>100.000000</td>\n",
              "    </tr>\n",
              "  </tbody>\n",
              "</table>\n",
              "</div>\n",
              "      <button class=\"colab-df-convert\" onclick=\"convertToInteractive('df-91811885-17e1-46c3-92d4-cd7c4987f7e7')\"\n",
              "              title=\"Convert this dataframe to an interactive table.\"\n",
              "              style=\"display:none;\">\n",
              "        \n",
              "  <svg xmlns=\"http://www.w3.org/2000/svg\" height=\"24px\"viewBox=\"0 0 24 24\"\n",
              "       width=\"24px\">\n",
              "    <path d=\"M0 0h24v24H0V0z\" fill=\"none\"/>\n",
              "    <path d=\"M18.56 5.44l.94 2.06.94-2.06 2.06-.94-2.06-.94-.94-2.06-.94 2.06-2.06.94zm-11 1L8.5 8.5l.94-2.06 2.06-.94-2.06-.94L8.5 2.5l-.94 2.06-2.06.94zm10 10l.94 2.06.94-2.06 2.06-.94-2.06-.94-.94-2.06-.94 2.06-2.06.94z\"/><path d=\"M17.41 7.96l-1.37-1.37c-.4-.4-.92-.59-1.43-.59-.52 0-1.04.2-1.43.59L10.3 9.45l-7.72 7.72c-.78.78-.78 2.05 0 2.83L4 21.41c.39.39.9.59 1.41.59.51 0 1.02-.2 1.41-.59l7.78-7.78 2.81-2.81c.8-.78.8-2.07 0-2.86zM5.41 20L4 18.59l7.72-7.72 1.47 1.35L5.41 20z\"/>\n",
              "  </svg>\n",
              "      </button>\n",
              "      \n",
              "  <style>\n",
              "    .colab-df-container {\n",
              "      display:flex;\n",
              "      flex-wrap:wrap;\n",
              "      gap: 12px;\n",
              "    }\n",
              "\n",
              "    .colab-df-convert {\n",
              "      background-color: #E8F0FE;\n",
              "      border: none;\n",
              "      border-radius: 50%;\n",
              "      cursor: pointer;\n",
              "      display: none;\n",
              "      fill: #1967D2;\n",
              "      height: 32px;\n",
              "      padding: 0 0 0 0;\n",
              "      width: 32px;\n",
              "    }\n",
              "\n",
              "    .colab-df-convert:hover {\n",
              "      background-color: #E2EBFA;\n",
              "      box-shadow: 0px 1px 2px rgba(60, 64, 67, 0.3), 0px 1px 3px 1px rgba(60, 64, 67, 0.15);\n",
              "      fill: #174EA6;\n",
              "    }\n",
              "\n",
              "    [theme=dark] .colab-df-convert {\n",
              "      background-color: #3B4455;\n",
              "      fill: #D2E3FC;\n",
              "    }\n",
              "\n",
              "    [theme=dark] .colab-df-convert:hover {\n",
              "      background-color: #434B5C;\n",
              "      box-shadow: 0px 1px 3px 1px rgba(0, 0, 0, 0.15);\n",
              "      filter: drop-shadow(0px 1px 2px rgba(0, 0, 0, 0.3));\n",
              "      fill: #FFFFFF;\n",
              "    }\n",
              "  </style>\n",
              "\n",
              "      <script>\n",
              "        const buttonEl =\n",
              "          document.querySelector('#df-91811885-17e1-46c3-92d4-cd7c4987f7e7 button.colab-df-convert');\n",
              "        buttonEl.style.display =\n",
              "          google.colab.kernel.accessAllowed ? 'block' : 'none';\n",
              "\n",
              "        async function convertToInteractive(key) {\n",
              "          const element = document.querySelector('#df-91811885-17e1-46c3-92d4-cd7c4987f7e7');\n",
              "          const dataTable =\n",
              "            await google.colab.kernel.invokeFunction('convertToInteractive',\n",
              "                                                     [key], {});\n",
              "          if (!dataTable) return;\n",
              "\n",
              "          const docLinkHtml = 'Like what you see? Visit the ' +\n",
              "            '<a target=\"_blank\" href=https://colab.research.google.com/notebooks/data_table.ipynb>data table notebook</a>'\n",
              "            + ' to learn more about interactive tables.';\n",
              "          element.innerHTML = '';\n",
              "          dataTable['output_type'] = 'display_data';\n",
              "          await google.colab.output.renderOutput(dataTable, element);\n",
              "          const docLink = document.createElement('div');\n",
              "          docLink.innerHTML = docLinkHtml;\n",
              "          element.appendChild(docLink);\n",
              "        }\n",
              "      </script>\n",
              "    </div>\n",
              "  </div>\n",
              "  "
            ]
          },
          "metadata": {},
          "execution_count": 12
        }
      ]
    },
    {
      "cell_type": "code",
      "source": [
        "#define aesthetics for plot\n",
        "color1 = \"blue\"\n",
        "color2 = \"red\"\n",
        "line_size = 4"
      ],
      "metadata": {
        "id": "3K_Y88qEmBPt"
      },
      "execution_count": 163,
      "outputs": []
    },
    {
      "cell_type": "code",
      "source": [
        "fig, ax = plt.subplots()\n",
        "ax.bar(temp_df.index, temp_df[\"Temperature\"], color=color1)\n",
        "\n",
        "ax2 = ax.twinx()\n",
        "ax2.plot(temp_df.index, temp_df[\"Cumulative Percent\"], color=color2, marker=\"D\", ms=line_size)\n",
        "ax2.yaxis.set_major_formatter(PercentFormatter())\n",
        "\n",
        "ax.tick_params(axis=\"y\", colors=color1)\n",
        "ax2.tick_params(axis=\"y\", colors=color2)\n",
        "ax.set(xticks=np.arange(temp_df.index.size))\n",
        "fig.autofmt_xdate(bottom=0.2, rotation=90, ha=\"right\", which=None)\n",
        "\n",
        "plt.show()"
      ],
      "metadata": {
        "colab": {
          "base_uri": "https://localhost:8080/",
          "height": 267
        },
        "id": "lQiyyQQGpiQz",
        "outputId": "d549259c-191e-46de-b656-b56afc0a2688"
      },
      "execution_count": 164,
      "outputs": [
        {
          "output_type": "display_data",
          "data": {
            "text/plain": [
              "<Figure size 432x288 with 2 Axes>"
            ],
            "image/png": "[encoded data removed]"
          },
          "metadata": {
            "needs_background": "light"
          }
        }
      ]
    },
    {
      "cell_type": "markdown",
      "source": [
        "This Section is on **Covariance** and **Correlation Coefficient**."
      ],
      "metadata": {
        "id": "ovVLirm21Zkm"
      }
    },
    {
      "cell_type": "code",
      "source": [
        "#Defining the variable\n",
        "X = [5, 12, 18, 23, 45, 50]"
      ],
      "metadata": {
        "id": "64pxMIwc3DHl"
      },
      "execution_count": 165,
      "outputs": []
    },
    {
      "cell_type": "code",
      "source": [
        "X"
      ],
      "metadata": {
        "colab": {
          "base_uri": "https://localhost:8080/"
        },
        "id": "eDWPVGRS3tmo",
        "outputId": "fcae9c6c-c3d0-42b0-d733-e7baca41c0b3"
      },
      "execution_count": 68,
      "outputs": [
        {
          "output_type": "execute_result",
          "data": {
            "text/plain": [
              "[5, 12, 18, 23, 45, 50]"
            ]
          },
          "metadata": {},
          "execution_count": 68
        }
      ]
    },
    {
      "cell_type": "code",
      "source": [
        "n = len(X)"
      ],
      "metadata": {
        "id": "stAVNKTqk_Gw"
      },
      "execution_count": 69,
      "outputs": []
    },
    {
      "cell_type": "code",
      "source": [
        "n"
      ],
      "metadata": {
        "colab": {
          "base_uri": "https://localhost:8080/"
        },
        "id": "kWpdvkujlGfx",
        "outputId": "f73457df-79a7-48ab-d709-cd6af657b8f1"
      },
      "execution_count": 70,
      "outputs": [
        {
          "output_type": "execute_result",
          "data": {
            "text/plain": [
              "6"
            ]
          },
          "metadata": {},
          "execution_count": 70
        }
      ]
    },
    {
      "cell_type": "code",
      "source": [
        "#Defining the 2nd variable\n",
        "Y = [2, 8, 18, 20, 28, 30]"
      ],
      "metadata": {
        "id": "w4cTmf-Z3xJs"
      },
      "execution_count": 166,
      "outputs": []
    },
    {
      "cell_type": "code",
      "source": [
        "Y"
      ],
      "metadata": {
        "colab": {
          "base_uri": "https://localhost:8080/"
        },
        "id": "_STLklys4Joe",
        "outputId": "3f744648-6e40-40e3-9c05-e062724c96c8"
      },
      "execution_count": 167,
      "outputs": [
        {
          "output_type": "execute_result",
          "data": {
            "text/plain": [
              "[2, 8, 18, 20, 28, 30]"
            ]
          },
          "metadata": {},
          "execution_count": 167
        }
      ]
    },
    {
      "cell_type": "code",
      "source": [
        "n = len(Y)"
      ],
      "metadata": {
        "id": "rd9XqEzXll1v"
      },
      "execution_count": 73,
      "outputs": []
    },
    {
      "cell_type": "code",
      "source": [
        "n"
      ],
      "metadata": {
        "colab": {
          "base_uri": "https://localhost:8080/"
        },
        "id": "ov1d0wAvlppk",
        "outputId": "0b345b03-4a55-41fc-949e-3e542cd12f2f"
      },
      "execution_count": 74,
      "outputs": [
        {
          "output_type": "execute_result",
          "data": {
            "text/plain": [
              "6"
            ]
          },
          "metadata": {},
          "execution_count": 74
        }
      ]
    },
    {
      "cell_type": "code",
      "source": [
        "X_mean = sum(X)/len(X)"
      ],
      "metadata": {
        "id": "dBQNCp3b4NHw"
      },
      "execution_count": 75,
      "outputs": []
    },
    {
      "cell_type": "code",
      "source": [
        "X_mean"
      ],
      "metadata": {
        "colab": {
          "base_uri": "https://localhost:8080/"
        },
        "id": "I_s9xVId5H7q",
        "outputId": "9564d07e-fbe0-443f-9d54-927df1b797ac"
      },
      "execution_count": 76,
      "outputs": [
        {
          "output_type": "execute_result",
          "data": {
            "text/plain": [
              "25.5"
            ]
          },
          "metadata": {},
          "execution_count": 76
        }
      ]
    },
    {
      "cell_type": "code",
      "source": [
        "Y_mean = round(sum(Y)/len(Y), 2)"
      ],
      "metadata": {
        "id": "PbEk21Fy5oPr"
      },
      "execution_count": 77,
      "outputs": []
    },
    {
      "cell_type": "code",
      "source": [
        "Y_mean"
      ],
      "metadata": {
        "colab": {
          "base_uri": "https://localhost:8080/"
        },
        "id": "B4vFipxj5x-i",
        "outputId": "7ec5a297-cd26-430d-b232-e6367f3037b7"
      },
      "execution_count": 78,
      "outputs": [
        {
          "output_type": "execute_result",
          "data": {
            "text/plain": [
              "17.67"
            ]
          },
          "metadata": {},
          "execution_count": 78
        }
      ]
    },
    {
      "cell_type": "code",
      "source": [
        "i = 0\n",
        "x_result=[]\n",
        "for i in X:\n",
        "  x_result.append(i-X_mean)"
      ],
      "metadata": {
        "id": "Hng6rFV38Fz8"
      },
      "execution_count": 79,
      "outputs": []
    },
    {
      "cell_type": "code",
      "source": [
        "x_result"
      ],
      "metadata": {
        "colab": {
          "base_uri": "https://localhost:8080/"
        },
        "id": "fr3qouzPAPlS",
        "outputId": "5e5c5ada-4a31-4e5a-c485-c08c91c6136d"
      },
      "execution_count": 80,
      "outputs": [
        {
          "output_type": "execute_result",
          "data": {
            "text/plain": [
              "[-20.5, -13.5, -7.5, -2.5, 19.5, 24.5]"
            ]
          },
          "metadata": {},
          "execution_count": 80
        }
      ]
    },
    {
      "cell_type": "code",
      "source": [
        "i = 0\n",
        "y_result = []\n",
        "for i in Y:\n",
        "  y_result.append(round(i-Y_mean, 2))"
      ],
      "metadata": {
        "id": "T1ZhGIR2B_Q4"
      },
      "execution_count": 81,
      "outputs": []
    },
    {
      "cell_type": "code",
      "source": [
        "y_result"
      ],
      "metadata": {
        "colab": {
          "base_uri": "https://localhost:8080/"
        },
        "id": "8j6Hn6TvC0je",
        "outputId": "7da52a7a-af6b-4ece-b7d8-3836128bc331"
      },
      "execution_count": 82,
      "outputs": [
        {
          "output_type": "execute_result",
          "data": {
            "text/plain": [
              "[-15.67, -9.67, 0.33, 2.33, 10.33, 12.33]"
            ]
          },
          "metadata": {},
          "execution_count": 82
        }
      ]
    },
    {
      "cell_type": "code",
      "source": [
        "xi_X_yi_Y = [i1 * i2 for i1, i2 in zip(x_result, y_result)]\n",
        "                "
      ],
      "metadata": {
        "id": "74i6VMRMUSQL"
      },
      "execution_count": 83,
      "outputs": []
    },
    {
      "cell_type": "code",
      "source": [
        "xi_X_yi_Y"
      ],
      "metadata": {
        "colab": {
          "base_uri": "https://localhost:8080/"
        },
        "id": "TETiiQHIi-OP",
        "outputId": "0eeb62d1-511e-42c3-8682-37ad91a4dc17"
      },
      "execution_count": 84,
      "outputs": [
        {
          "output_type": "execute_result",
          "data": {
            "text/plain": [
              "[321.235, 130.545, -2.475, -5.825, 201.435, 302.085]"
            ]
          },
          "metadata": {},
          "execution_count": 84
        }
      ]
    },
    {
      "cell_type": "code",
      "source": [
        "Covariance = sum(xi_X_yi_Y)/(n - 1)"
      ],
      "metadata": {
        "id": "ik25qUi0j6ve"
      },
      "execution_count": 86,
      "outputs": []
    },
    {
      "cell_type": "code",
      "source": [
        "Covariance"
      ],
      "metadata": {
        "colab": {
          "base_uri": "https://localhost:8080/"
        },
        "id": "sOffqO-hmIEf",
        "outputId": "cb761339-202f-41ea-c74b-ce24c7d846d2"
      },
      "execution_count": 87,
      "outputs": [
        {
          "output_type": "execute_result",
          "data": {
            "text/plain": [
              "189.4"
            ]
          },
          "metadata": {},
          "execution_count": 87
        }
      ]
    },
    {
      "cell_type": "code",
      "source": [
        "x_result_square = [i ** 2 for i in x_result]"
      ],
      "metadata": {
        "id": "pTQX2fUumc93"
      },
      "execution_count": 88,
      "outputs": []
    },
    {
      "cell_type": "code",
      "source": [
        "x_result_square"
      ],
      "metadata": {
        "colab": {
          "base_uri": "https://localhost:8080/"
        },
        "id": "nhvm4MCQnujV",
        "outputId": "43a9f988-c0ac-44f4-cb33-a1e5e7e31842"
      },
      "execution_count": 89,
      "outputs": [
        {
          "output_type": "execute_result",
          "data": {
            "text/plain": [
              "[420.25, 182.25, 56.25, 6.25, 380.25, 600.25]"
            ]
          },
          "metadata": {},
          "execution_count": 89
        }
      ]
    },
    {
      "cell_type": "code",
      "source": [
        "xVariance = sum(x_result_square)/(n-1)"
      ],
      "metadata": {
        "id": "dI99gchxrGS8"
      },
      "execution_count": 90,
      "outputs": []
    },
    {
      "cell_type": "code",
      "source": [
        "xVariance"
      ],
      "metadata": {
        "colab": {
          "base_uri": "https://localhost:8080/"
        },
        "id": "ynw5Ms7jrdR6",
        "outputId": "df9e2869-5873-4048-ee03-50806a802fd8"
      },
      "execution_count": 91,
      "outputs": [
        {
          "output_type": "execute_result",
          "data": {
            "text/plain": [
              "329.1"
            ]
          },
          "metadata": {},
          "execution_count": 91
        }
      ]
    },
    {
      "cell_type": "code",
      "source": [
        "#Standard deviation of X\n",
        "Sx = round(xVariance ** (1/2), 2)"
      ],
      "metadata": {
        "id": "YrN8kQwpryVO"
      },
      "execution_count": 168,
      "outputs": []
    },
    {
      "cell_type": "code",
      "source": [
        "Sx"
      ],
      "metadata": {
        "colab": {
          "base_uri": "https://localhost:8080/"
        },
        "id": "t_-7BoU4r9e1",
        "outputId": "e98f1775-37a1-4ffc-9931-e712e6689613"
      },
      "execution_count": 93,
      "outputs": [
        {
          "output_type": "execute_result",
          "data": {
            "text/plain": [
              "18.14"
            ]
          },
          "metadata": {},
          "execution_count": 93
        }
      ]
    },
    {
      "cell_type": "code",
      "source": [
        "y_result_square = [i ** 2 for i in y_result]"
      ],
      "metadata": {
        "id": "NdzbtvZQs1X7"
      },
      "execution_count": 94,
      "outputs": []
    },
    {
      "cell_type": "code",
      "source": [
        "y_result_square"
      ],
      "metadata": {
        "colab": {
          "base_uri": "https://localhost:8080/"
        },
        "id": "kGa-st3ytsJU",
        "outputId": "773a74a6-e228-4cc5-8d4f-778ac9e3a0c3"
      },
      "execution_count": 95,
      "outputs": [
        {
          "output_type": "execute_result",
          "data": {
            "text/plain": [
              "[245.5489,\n",
              " 93.5089,\n",
              " 0.10890000000000001,\n",
              " 5.4289000000000005,\n",
              " 106.7089,\n",
              " 152.0289]"
            ]
          },
          "metadata": {},
          "execution_count": 95
        }
      ]
    },
    {
      "cell_type": "code",
      "source": [
        "yVariance = sum(y_result_square)/(n-1)"
      ],
      "metadata": {
        "id": "Y5kweRh9vk-V"
      },
      "execution_count": 96,
      "outputs": []
    },
    {
      "cell_type": "code",
      "source": [
        "yVariance"
      ],
      "metadata": {
        "colab": {
          "base_uri": "https://localhost:8080/"
        },
        "id": "owMImZyrvx1D",
        "outputId": "7f7ccaff-bc07-4174-a8c8-842add12ee02"
      },
      "execution_count": 97,
      "outputs": [
        {
          "output_type": "execute_result",
          "data": {
            "text/plain": [
              "120.66668"
            ]
          },
          "metadata": {},
          "execution_count": 97
        }
      ]
    },
    {
      "cell_type": "code",
      "source": [
        "#Standard deviation of Y\n",
        "Sy = round(yVariance ** (1/2), 2)"
      ],
      "metadata": {
        "id": "96JikW8sv8G9"
      },
      "execution_count": 169,
      "outputs": []
    },
    {
      "cell_type": "code",
      "source": [
        "Sy"
      ],
      "metadata": {
        "colab": {
          "base_uri": "https://localhost:8080/"
        },
        "id": "HP_fuxiuwK_U",
        "outputId": "7cdedfe4-1389-4e52-9439-f83e652273ff"
      },
      "execution_count": 99,
      "outputs": [
        {
          "output_type": "execute_result",
          "data": {
            "text/plain": [
              "10.98"
            ]
          },
          "metadata": {},
          "execution_count": 99
        }
      ]
    },
    {
      "cell_type": "code",
      "source": [
        "cor_coef = round(Covariance/(Sx * Sy), 2)"
      ],
      "metadata": {
        "id": "IBWywWuLwwmi"
      },
      "execution_count": 100,
      "outputs": []
    },
    {
      "cell_type": "code",
      "source": [
        "cor_coef"
      ],
      "metadata": {
        "colab": {
          "base_uri": "https://localhost:8080/"
        },
        "id": "NBZzpLqUxflP",
        "outputId": "79b0518f-8e73-45eb-c07e-e7d6d5d14ef7"
      },
      "execution_count": 101,
      "outputs": [
        {
          "output_type": "execute_result",
          "data": {
            "text/plain": [
              "0.95"
            ]
          },
          "metadata": {},
          "execution_count": 101
        }
      ]
    },
    {
      "cell_type": "markdown",
      "source": [
        "**Covariance and Correlation Coefficient Computation Using Python Libraries**"
      ],
      "metadata": {
        "id": "Ort8zkY4AOuR"
      }
    },
    {
      "cell_type": "code",
      "source": [
        "X"
      ],
      "metadata": {
        "id": "EfyWomc_ANfX",
        "colab": {
          "base_uri": "https://localhost:8080/"
        },
        "outputId": "f4009865-4feb-4ce8-9d82-d74965f517fc"
      },
      "execution_count": 102,
      "outputs": [
        {
          "output_type": "execute_result",
          "data": {
            "text/plain": [
              "[5, 12, 18, 23, 45, 50]"
            ]
          },
          "metadata": {},
          "execution_count": 102
        }
      ]
    },
    {
      "cell_type": "code",
      "source": [
        "Y"
      ],
      "metadata": {
        "colab": {
          "base_uri": "https://localhost:8080/"
        },
        "id": "x1CKGNGLscpH",
        "outputId": "667fa830-afb9-4ae1-f143-4d46db57aec6"
      },
      "execution_count": 103,
      "outputs": [
        {
          "output_type": "execute_result",
          "data": {
            "text/plain": [
              "[2, 8, 18, 20, 28, 30]"
            ]
          },
          "metadata": {},
          "execution_count": 103
        }
      ]
    },
    {
      "cell_type": "code",
      "source": [
        "statistics.covariance(X, Y)"
      ],
      "metadata": {
        "colab": {
          "base_uri": "https://localhost:8080/",
          "height": 172
        },
        "id": "YivN2njisfPo",
        "outputId": "76ad4558-9dcb-47f8-ccf8-6f8ba60857e5"
      },
      "execution_count": 116,
      "outputs": [
        {
          "output_type": "error",
          "ename": "AttributeError",
          "evalue": "ignored",
          "traceback": [
            "\u001b[0;31m---------------------------------------------------------------------------\u001b[0m",
            "\u001b[0;31mAttributeError\u001b[0m                            Traceback (most recent call last)",
            "\u001b[0;32m<ipython-input-116-8ac5191ecc22>\u001b[0m in \u001b[0;36m<module>\u001b[0;34m\u001b[0m\n\u001b[0;32m----> 1\u001b[0;31m \u001b[0mstatistics\u001b[0m\u001b[0;34m.\u001b[0m\u001b[0mcovariance\u001b[0m\u001b[0;34m(\u001b[0m\u001b[0mX\u001b[0m\u001b[0;34m,\u001b[0m \u001b[0mY\u001b[0m\u001b[0;34m)\u001b[0m\u001b[0;34m\u001b[0m\u001b[0;34m\u001b[0m\u001b[0m\n\u001b[0m",
            "\u001b[0;31mAttributeError\u001b[0m: module 'statistics' has no attribute 'covariance'"
          ]
        }
      ]
    },
    {
      "cell_type": "code",
      "source": [
        "#Using Scipy\n",
        "scipy.cov(X,Y)"
      ],
      "metadata": {
        "colab": {
          "base_uri": "https://localhost:8080/"
        },
        "id": "qOWEwLDbu9K7",
        "outputId": "c1893c37-9a63-4304-e82e-c37b2fb786b2"
      },
      "execution_count": 171,
      "outputs": [
        {
          "output_type": "stream",
          "name": "stderr",
          "text": [
            "/usr/local/lib/python3.7/dist-packages/ipykernel_launcher.py:2: DeprecationWarning: scipy.cov is deprecated and will be removed in SciPy 2.0.0, use numpy.cov instead\n",
            "  \n"
          ]
        },
        {
          "output_type": "execute_result",
          "data": {
            "text/plain": [
              "array([[329.1       , 189.4       ],\n",
              "       [189.4       , 120.66666667]])"
            ]
          },
          "metadata": {},
          "execution_count": 171
        }
      ]
    },
    {
      "cell_type": "code",
      "source": [
        "scipy.corrcoef(X, Y)"
      ],
      "metadata": {
        "colab": {
          "base_uri": "https://localhost:8080/"
        },
        "id": "Tsopg36r97bB",
        "outputId": "55742be9-2d66-41cd-dc10-3658d73e7977"
      },
      "execution_count": 120,
      "outputs": [
        {
          "output_type": "stream",
          "name": "stderr",
          "text": [
            "/usr/local/lib/python3.7/dist-packages/ipykernel_launcher.py:1: DeprecationWarning: scipy.corrcoef is deprecated and will be removed in SciPy 2.0.0, use numpy.corrcoef instead\n",
            "  \"\"\"Entry point for launching an IPython kernel.\n"
          ]
        },
        {
          "output_type": "execute_result",
          "data": {
            "text/plain": [
              "array([[1.       , 0.9504349],\n",
              "       [0.9504349, 1.       ]])"
            ]
          },
          "metadata": {},
          "execution_count": 120
        }
      ]
    },
    {
      "cell_type": "code",
      "source": [
        "#Using Numpy\n",
        "np.cov(X, Y)"
      ],
      "metadata": {
        "colab": {
          "base_uri": "https://localhost:8080/"
        },
        "id": "QalrsiDY8Mwv",
        "outputId": "9a26c7b9-8eb0-4da0-8abe-224699ee74bc"
      },
      "execution_count": 170,
      "outputs": [
        {
          "output_type": "execute_result",
          "data": {
            "text/plain": [
              "array([[329.1       , 189.4       ],\n",
              "       [189.4       , 120.66666667]])"
            ]
          },
          "metadata": {},
          "execution_count": 170
        }
      ]
    },
    {
      "cell_type": "code",
      "source": [
        "np.corrcoef(X, Y)"
      ],
      "metadata": {
        "colab": {
          "base_uri": "https://localhost:8080/"
        },
        "id": "-Yho1M-j9JLS",
        "outputId": "2c6d484a-df2f-488f-831b-fbcd7bcc1584"
      },
      "execution_count": 119,
      "outputs": [
        {
          "output_type": "execute_result",
          "data": {
            "text/plain": [
              "array([[1.       , 0.9504349],\n",
              "       [0.9504349, 1.       ]])"
            ]
          },
          "metadata": {},
          "execution_count": 119
        }
      ]
    },
    {
      "cell_type": "code",
      "source": [
        "# Using Pandas\n",
        "\n",
        "cov_tuple = ({\"X\": [5, 12, 18, 23, 45, 50], \"Y\": [2, 8, 18, 20, 28, 30]})"
      ],
      "metadata": {
        "id": "EwG2blUz-vyV"
      },
      "execution_count": 122,
      "outputs": []
    },
    {
      "cell_type": "code",
      "source": [
        "cov_df = pd.DataFrame(cov_tuple)"
      ],
      "metadata": {
        "id": "KMbhWDMcAko6"
      },
      "execution_count": 123,
      "outputs": []
    },
    {
      "cell_type": "code",
      "source": [
        "cov_df.cov()"
      ],
      "metadata": {
        "colab": {
          "base_uri": "https://localhost:8080/",
          "height": 112
        },
        "id": "dk1_NvQYA52U",
        "outputId": "ea6d9a2c-027c-45da-eeaf-24e6dde4020e"
      },
      "execution_count": 124,
      "outputs": [
        {
          "output_type": "execute_result",
          "data": {
            "text/plain": [
              "       X           Y\n",
              "X  329.1  189.400000\n",
              "Y  189.4  120.666667"
            ],
            "text/html": [
              "\n",
              "  <div id=\"df-96209dac-eeb1-4c57-9d7f-d86cee680fa3\">\n",
              "    <div class=\"colab-df-container\">\n",
              "      <div>\n",
              "<style scoped>\n",
              "    .dataframe tbody tr th:only-of-type {\n",
              "        vertical-align: middle;\n",
              "    }\n",
              "\n",
              "    .dataframe tbody tr th {\n",
              "        vertical-align: top;\n",
              "    }\n",
              "\n",
              "    .dataframe thead th {\n",
              "        text-align: right;\n",
              "    }\n",
              "</style>\n",
              "<table border=\"1\" class=\"dataframe\">\n",
              "  <thead>\n",
              "    <tr style=\"text-align: right;\">\n",
              "      <th></th>\n",
              "      <th>X</th>\n",
              "      <th>Y</th>\n",
              "    </tr>\n",
              "  </thead>\n",
              "  <tbody>\n",
              "    <tr>\n",
              "      <th>X</th>\n",
              "      <td>329.1</td>\n",
              "      <td>189.400000</td>\n",
              "    </tr>\n",
              "    <tr>\n",
              "      <th>Y</th>\n",
              "      <td>189.4</td>\n",
              "      <td>120.666667</td>\n",
              "    </tr>\n",
              "  </tbody>\n",
              "</table>\n",
              "</div>\n",
              "      <button class=\"colab-df-convert\" onclick=\"convertToInteractive('df-96209dac-eeb1-4c57-9d7f-d86cee680fa3')\"\n",
              "              title=\"Convert this dataframe to an interactive table.\"\n",
              "              style=\"display:none;\">\n",
              "        \n",
              "  <svg xmlns=\"http://www.w3.org/2000/svg\" height=\"24px\"viewBox=\"0 0 24 24\"\n",
              "       width=\"24px\">\n",
              "    <path d=\"M0 0h24v24H0V0z\" fill=\"none\"/>\n",
              "    <path d=\"M18.56 5.44l.94 2.06.94-2.06 2.06-.94-2.06-.94-.94-2.06-.94 2.06-2.06.94zm-11 1L8.5 8.5l.94-2.06 2.06-.94-2.06-.94L8.5 2.5l-.94 2.06-2.06.94zm10 10l.94 2.06.94-2.06 2.06-.94-2.06-.94-.94-2.06-.94 2.06-2.06.94z\"/><path d=\"M17.41 7.96l-1.37-1.37c-.4-.4-.92-.59-1.43-.59-.52 0-1.04.2-1.43.59L10.3 9.45l-7.72 7.72c-.78.78-.78 2.05 0 2.83L4 21.41c.39.39.9.59 1.41.59.51 0 1.02-.2 1.41-.59l7.78-7.78 2.81-2.81c.8-.78.8-2.07 0-2.86zM5.41 20L4 18.59l7.72-7.72 1.47 1.35L5.41 20z\"/>\n",
              "  </svg>\n",
              "      </button>\n",
              "      \n",
              "  <style>\n",
              "    .colab-df-container {\n",
              "      display:flex;\n",
              "      flex-wrap:wrap;\n",
              "      gap: 12px;\n",
              "    }\n",
              "\n",
              "    .colab-df-convert {\n",
              "      background-color: #E8F0FE;\n",
              "      border: none;\n",
              "      border-radius: 50%;\n",
              "      cursor: pointer;\n",
              "      display: none;\n",
              "      fill: #1967D2;\n",
              "      height: 32px;\n",
              "      padding: 0 0 0 0;\n",
              "      width: 32px;\n",
              "    }\n",
              "\n",
              "    .colab-df-convert:hover {\n",
              "      background-color: #E2EBFA;\n",
              "      box-shadow: 0px 1px 2px rgba(60, 64, 67, 0.3), 0px 1px 3px 1px rgba(60, 64, 67, 0.15);\n",
              "      fill: #174EA6;\n",
              "    }\n",
              "\n",
              "    [theme=dark] .colab-df-convert {\n",
              "      background-color: #3B4455;\n",
              "      fill: #D2E3FC;\n",
              "    }\n",
              "\n",
              "    [theme=dark] .colab-df-convert:hover {\n",
              "      background-color: #434B5C;\n",
              "      box-shadow: 0px 1px 3px 1px rgba(0, 0, 0, 0.15);\n",
              "      filter: drop-shadow(0px 1px 2px rgba(0, 0, 0, 0.3));\n",
              "      fill: #FFFFFF;\n",
              "    }\n",
              "  </style>\n",
              "\n",
              "      <script>\n",
              "        const buttonEl =\n",
              "          document.querySelector('#df-96209dac-eeb1-4c57-9d7f-d86cee680fa3 button.colab-df-convert');\n",
              "        buttonEl.style.display =\n",
              "          google.colab.kernel.accessAllowed ? 'block' : 'none';\n",
              "\n",
              "        async function convertToInteractive(key) {\n",
              "          const element = document.querySelector('#df-96209dac-eeb1-4c57-9d7f-d86cee680fa3');\n",
              "          const dataTable =\n",
              "            await google.colab.kernel.invokeFunction('convertToInteractive',\n",
              "                                                     [key], {});\n",
              "          if (!dataTable) return;\n",
              "\n",
              "          const docLinkHtml = 'Like what you see? Visit the ' +\n",
              "            '<a target=\"_blank\" href=https://colab.research.google.com/notebooks/data_table.ipynb>data table notebook</a>'\n",
              "            + ' to learn more about interactive tables.';\n",
              "          element.innerHTML = '';\n",
              "          dataTable['output_type'] = 'display_data';\n",
              "          await google.colab.output.renderOutput(dataTable, element);\n",
              "          const docLink = document.createElement('div');\n",
              "          docLink.innerHTML = docLinkHtml;\n",
              "          element.appendChild(docLink);\n",
              "        }\n",
              "      </script>\n",
              "    </div>\n",
              "  </div>\n",
              "  "
            ]
          },
          "metadata": {},
          "execution_count": 124
        }
      ]
    },
    {
      "cell_type": "code",
      "source": [
        "cov_df.corr()"
      ],
      "metadata": {
        "colab": {
          "base_uri": "https://localhost:8080/",
          "height": 112
        },
        "id": "dhtyuFiDBH6j",
        "outputId": "0203354d-2135-4a28-91b6-95f04e1ecac6"
      },
      "execution_count": 125,
      "outputs": [
        {
          "output_type": "execute_result",
          "data": {
            "text/plain": [
              "          X         Y\n",
              "X  1.000000  0.950435\n",
              "Y  0.950435  1.000000"
            ],
            "text/html": [
              "\n",
              "  <div id=\"df-b7c616a1-4019-46b1-a539-dc09c0d4fb78\">\n",
              "    <div class=\"colab-df-container\">\n",
              "      <div>\n",
              "<style scoped>\n",
              "    .dataframe tbody tr th:only-of-type {\n",
              "        vertical-align: middle;\n",
              "    }\n",
              "\n",
              "    .dataframe tbody tr th {\n",
              "        vertical-align: top;\n",
              "    }\n",
              "\n",
              "    .dataframe thead th {\n",
              "        text-align: right;\n",
              "    }\n",
              "</style>\n",
              "<table border=\"1\" class=\"dataframe\">\n",
              "  <thead>\n",
              "    <tr style=\"text-align: right;\">\n",
              "      <th></th>\n",
              "      <th>X</th>\n",
              "      <th>Y</th>\n",
              "    </tr>\n",
              "  </thead>\n",
              "  <tbody>\n",
              "    <tr>\n",
              "      <th>X</th>\n",
              "      <td>1.000000</td>\n",
              "      <td>0.950435</td>\n",
              "    </tr>\n",
              "    <tr>\n",
              "      <th>Y</th>\n",
              "      <td>0.950435</td>\n",
              "      <td>1.000000</td>\n",
              "    </tr>\n",
              "  </tbody>\n",
              "</table>\n",
              "</div>\n",
              "      <button class=\"colab-df-convert\" onclick=\"convertToInteractive('df-b7c616a1-4019-46b1-a539-dc09c0d4fb78')\"\n",
              "              title=\"Convert this dataframe to an interactive table.\"\n",
              "              style=\"display:none;\">\n",
              "        \n",
              "  <svg xmlns=\"http://www.w3.org/2000/svg\" height=\"24px\"viewBox=\"0 0 24 24\"\n",
              "       width=\"24px\">\n",
              "    <path d=\"M0 0h24v24H0V0z\" fill=\"none\"/>\n",
              "    <path d=\"M18.56 5.44l.94 2.06.94-2.06 2.06-.94-2.06-.94-.94-2.06-.94 2.06-2.06.94zm-11 1L8.5 8.5l.94-2.06 2.06-.94-2.06-.94L8.5 2.5l-.94 2.06-2.06.94zm10 10l.94 2.06.94-2.06 2.06-.94-2.06-.94-.94-2.06-.94 2.06-2.06.94z\"/><path d=\"M17.41 7.96l-1.37-1.37c-.4-.4-.92-.59-1.43-.59-.52 0-1.04.2-1.43.59L10.3 9.45l-7.72 7.72c-.78.78-.78 2.05 0 2.83L4 21.41c.39.39.9.59 1.41.59.51 0 1.02-.2 1.41-.59l7.78-7.78 2.81-2.81c.8-.78.8-2.07 0-2.86zM5.41 20L4 18.59l7.72-7.72 1.47 1.35L5.41 20z\"/>\n",
              "  </svg>\n",
              "      </button>\n",
              "      \n",
              "  <style>\n",
              "    .colab-df-container {\n",
              "      display:flex;\n",
              "      flex-wrap:wrap;\n",
              "      gap: 12px;\n",
              "    }\n",
              "\n",
              "    .colab-df-convert {\n",
              "      background-color: #E8F0FE;\n",
              "      border: none;\n",
              "      border-radius: 50%;\n",
              "      cursor: pointer;\n",
              "      display: none;\n",
              "      fill: #1967D2;\n",
              "      height: 32px;\n",
              "      padding: 0 0 0 0;\n",
              "      width: 32px;\n",
              "    }\n",
              "\n",
              "    .colab-df-convert:hover {\n",
              "      background-color: #E2EBFA;\n",
              "      box-shadow: 0px 1px 2px rgba(60, 64, 67, 0.3), 0px 1px 3px 1px rgba(60, 64, 67, 0.15);\n",
              "      fill: #174EA6;\n",
              "    }\n",
              "\n",
              "    [theme=dark] .colab-df-convert {\n",
              "      background-color: #3B4455;\n",
              "      fill: #D2E3FC;\n",
              "    }\n",
              "\n",
              "    [theme=dark] .colab-df-convert:hover {\n",
              "      background-color: #434B5C;\n",
              "      box-shadow: 0px 1px 3px 1px rgba(0, 0, 0, 0.15);\n",
              "      filter: drop-shadow(0px 1px 2px rgba(0, 0, 0, 0.3));\n",
              "      fill: #FFFFFF;\n",
              "    }\n",
              "  </style>\n",
              "\n",
              "      <script>\n",
              "        const buttonEl =\n",
              "          document.querySelector('#df-b7c616a1-4019-46b1-a539-dc09c0d4fb78 button.colab-df-convert');\n",
              "        buttonEl.style.display =\n",
              "          google.colab.kernel.accessAllowed ? 'block' : 'none';\n",
              "\n",
              "        async function convertToInteractive(key) {\n",
              "          const element = document.querySelector('#df-b7c616a1-4019-46b1-a539-dc09c0d4fb78');\n",
              "          const dataTable =\n",
              "            await google.colab.kernel.invokeFunction('convertToInteractive',\n",
              "                                                     [key], {});\n",
              "          if (!dataTable) return;\n",
              "\n",
              "          const docLinkHtml = 'Like what you see? Visit the ' +\n",
              "            '<a target=\"_blank\" href=https://colab.research.google.com/notebooks/data_table.ipynb>data table notebook</a>'\n",
              "            + ' to learn more about interactive tables.';\n",
              "          element.innerHTML = '';\n",
              "          dataTable['output_type'] = 'display_data';\n",
              "          await google.colab.output.renderOutput(dataTable, element);\n",
              "          const docLink = document.createElement('div');\n",
              "          docLink.innerHTML = docLinkHtml;\n",
              "          element.appendChild(docLink);\n",
              "        }\n",
              "      </script>\n",
              "    </div>\n",
              "  </div>\n",
              "  "
            ]
          },
          "metadata": {},
          "execution_count": 125
        }
      ]
    },
    {
      "cell_type": "markdown",
      "source": [
        "This Section Displays the **Heatmaps** of **Covariance** and **Correlation Coefficient** of our Data. "
      ],
      "metadata": {
        "id": "zR2egcnaGq06"
      }
    },
    {
      "cell_type": "code",
      "source": [
        "X = [5, 12, 18, 23, 45, 50]\n",
        "Y = [2, 8, 18, 20, 28, 30]\n",
        "\n",
        "data = np.array([X,Y])\n",
        "cov = np.cov(data, bias=False)\n",
        "labels = [\"X\", \"Y\"]\n",
        "\n",
        "sns.heatmap(cov, annot=True, fmt=\"g\", xticklabels=\"labels\", yticklabels=\"labels\")\n",
        "plt.show()"
      ],
      "metadata": {
        "colab": {
          "base_uri": "https://localhost:8080/",
          "height": 265
        },
        "id": "R9sBgSfJFoDl",
        "outputId": "2b38efaf-6b3c-41d9-c3fe-bd6b3d30b52d"
      },
      "execution_count": 134,
      "outputs": [
        {
          "output_type": "display_data",
          "data": {
            "text/plain": [
              "<Figure size 432x288 with 2 Axes>"
            ],
            "image/png": "[encoded data removed]"
          },
          "metadata": {
            "needs_background": "light"
          }
        }
      ]
    },
    {
      "cell_type": "code",
      "source": [
        "X = [5, 12, 18, 23, 45, 50]\n",
        "Y = [2, 8, 18, 20, 28, 30]\n",
        "\n",
        "data = np.array([X,Y])\n",
        "corr = np.corrcoef(data, bias=False)\n",
        "labels = [\"X\", \"Y\"]\n",
        "\n",
        "sns.heatmap(corr, annot=True, fmt=\"g\", xticklabels=\"labels\", yticklabels=\"labels\")\n",
        "plt.show()"
      ],
      "metadata": {
        "colab": {
          "base_uri": "https://localhost:8080/",
          "height": 306
        },
        "id": "wieI7HpAL7XM",
        "outputId": "d529c96f-1fae-47b1-ae36-0ab31cda9141"
      },
      "execution_count": 133,
      "outputs": [
        {
          "output_type": "stream",
          "name": "stderr",
          "text": [
            "/usr/local/lib/python3.7/dist-packages/ipykernel_launcher.py:5: DeprecationWarning: bias and ddof have no effect and are deprecated\n",
            "  \"\"\"\n"
          ]
        },
        {
          "output_type": "display_data",
          "data": {
            "text/plain": [
              "<Figure size 432x288 with 2 Axes>"
            ],
            "image/png": "[encoded data removed]"
          },
          "metadata": {
            "needs_background": "light"
          }
        }
      ]
    },
    {
      "cell_type": "markdown",
      "source": [
        "**The heatmaps gives us a visual summary the covariance and coerralation coefficient data**"
      ],
      "metadata": {
        "id": "Q0f5Q1jEMUHA"
      }
    }
  ]
}