{
  "nbformat": 4,
  "nbformat_minor": 0,
  "metadata": {
    "colab": {
      "provenance": []
    },
    "kernelspec": {
      "name": "python3",
      "display_name": "Python 3"
    },
    "language_info": {
      "name": "python"
    }
  },
  "cells": [
    {
      "cell_type": "markdown",
      "source": [
        "**Q1:**\n",
        "\n",
        "What does the number in parantheses in np.random.seed(number) represent? Explain.\n",
        "\n"
      ],
      "metadata": {
        "id": "gBm-IUoKjMRK"
      }
    },
    {
      "cell_type": "markdown",
      "source": [
        "The number in the parenthesis np.random.seed(number) is the seed that enables us get reproducible results. This means that with the same number of seed in parenthesis, same results will be regenerated anywhere."
      ],
      "metadata": {
        "id": "eQNuB6-rkAdW"
      }
    },
    {
      "cell_type": "markdown",
      "source": [
        "**Q2:**\n",
        "\n",
        "Which graphs can be used to check normality? Explain with examples."
      ],
      "metadata": {
        "id": "vk4a6oHbkFVU"
      }
    },
    {
      "cell_type": "markdown",
      "source": [
        "Normality checks identify the nature of the distribution of data of a given variable. Oftentimes, this refers to how close the distribution of data is to it's mean score. Graphs are visual representations that show distributiion of data. The following graphs check for normality of a distribution:\n",
        "\n",
        "**Histogram:**\n",
        "\n",
        "In a histogram, the shape of it's distribution gives a somewhat clear view of distribution type. A variable that is normally distributed will form a bell shape curve around it's distribution with very little deviation from the shape of the bell curve. The histogram also shows \"symmetry\". A normally distributed data is **symmetric**, there's no skewness. The histogram shows the distribution of a single variable. \n",
        "\n",
        "**Stem-and-Leaf Plot:**\n",
        "\n",
        "In the \"Stem-and-leaf Plot\", the bell shape curve representing a normal distribution is checked for in the frequency distribution of the data representation. For a normally distributed variable, it's frequency should form a bell shape curve.\n",
        "\n",
        "**Detrended Probability Plot:** \n",
        "\n",
        "The \"Detrended Probability Plot\" shows the deviation of the distribution of the variable data from the expected normally distributed data. For a normal distribution, the values should cluster horizontally, near zero level.\n",
        "\n",
        "**Box Plot:**\n",
        "\n",
        "The box plot displays the five number summary of a variable. It is a great way to visualize distributions of multiple variables at the same time. The distribution of a variable is normal if it is symmetrical. The interquartile range box will be symmetrical with mean and median at the centre of the distribution. \n",
        "\n",
        "\n",
        "**Probability Probability Plot:**\n",
        "\n",
        "In this plot, the cumulative probability distribution of a variable is compared with that of a normally distributed cumulative probability. The observed value should fall on the expected normal distribution line.\n",
        "\n",
        "**Quantile Quantile Plot:**\n",
        "\n",
        "A Quantile Quantile Plot is also known as a **Q-Q Plot** or a **Normal Plot**.\n",
        "This plot type allows us to visualize th deviation from a normal distribution better than in a box plot or histogram. Here, the quantiles of our variable should be in line with the **theoretical** normal quantiles. A straight line on the **QQ Plot** indicates a normal distribution. \n"
      ],
      "metadata": {
        "id": "n5AXCXi-lCPl"
      }
    },
    {
      "cell_type": "markdown",
      "source": [
        "**Q3:**\n",
        "\n",
        "Which statistical tests can be used to check normality? Explain with examples."
      ],
      "metadata": {
        "id": "maMVeuLklD6y"
      }
    },
    {
      "cell_type": "markdown",
      "source": [
        "The following statistical tests can be used to check for normality of a distribution:\n",
        "\n",
        "**Kolmogorov-Smirnov Test:**\n",
        "\n",
        "The Kolmogorov-Smirnov Test is used to test if the distribution of a variable follows a given distribution not necessarily a normal one.\n",
        "\n",
        "\n",
        "**Lilliefors Test:**\n",
        "\n",
        "In this test, a test statistic T is compared to a critical value. If test statistic greater than critical value, then data not normal.\n",
        "\n",
        "\n",
        "**Shapiro Wilk test:**\n",
        "\n",
        "This test gives a **W value**; small values indicates a sample not normally distributed.\n",
        "\n",
        "**Chi-square Normality Test:**\n",
        "\n",
        "This a good fit test for sample size below 20. \n",
        "\n",
        "**Jarque-Bera Test:**\n",
        "\n",
        "This test compares the *skew* and *kurtosis* of a distribution to that of a normal distribution. The larger the **JB statistic**, the more the data deviates from the normal.\n",
        "\n",
        "**D'Agostino Pearson Test:**\n",
        "\n",
        "This like the \"Jarque-Bera\" Test, uses skewness and kurtosis to see if sample distribution matches those of a normal distribution. It requires a sample size greater than 20."
      ],
      "metadata": {
        "id": "1r-M8-6OljqW"
      }
    },
    {
      "cell_type": "markdown",
      "source": [
        "**Q4:**\n",
        "\n",
        "In Python, write code blocks to check the normality (one using a graph and one using a statistical test)."
      ],
      "metadata": {
        "id": "kMG02WopllNq"
      }
    },
    {
      "cell_type": "markdown",
      "source": [
        "Using a graph\n"
      ],
      "metadata": {
        "id": "iKs5gyLhl5CD"
      }
    },
    {
      "cell_type": "code",
      "source": [
        "import numpy as np\n",
        "import matplotlib.pyplot as plt\n",
        "import statsmodels.api as sm"
      ],
      "metadata": {
        "id": "QfiiihgxmC5P"
      },
      "execution_count": 1,
      "outputs": []
    },
    {
      "cell_type": "code",
      "source": [
        "np.random.seed(5)\n",
        "graph = np.random.normal(0, 1, 500)"
      ],
      "metadata": {
        "id": "x1L-0tJdmCan"
      },
      "execution_count": 2,
      "outputs": []
    },
    {
      "cell_type": "code",
      "source": [
        "#show first 5 entries\n",
        "graph[:5]"
      ],
      "metadata": {
        "colab": {
          "base_uri": "https://localhost:8080/"
        },
        "id": "YFf2Y5YTmllT",
        "outputId": "92bac269-38ad-4d18-a67d-8032a81e1bef"
      },
      "execution_count": 3,
      "outputs": [
        {
          "output_type": "execute_result",
          "data": {
            "text/plain": [
              "array([ 0.44122749, -0.33087015,  2.43077119, -0.25209213,  0.10960984])"
            ]
          },
          "metadata": {},
          "execution_count": 3
        }
      ]
    },
    {
      "cell_type": "code",
      "source": [
        "#plotting a Q-Q plot of graph with a 45-deg line\n",
        "fig = sm.qqplot(graph, line=\"45\")\n",
        "plt.show()"
      ],
      "metadata": {
        "colab": {
          "base_uri": "https://localhost:8080/",
          "height": 279
        },
        "id": "wmSM9kMKm07W",
        "outputId": "11bd57d9-5030-451e-8f98-4864b4154fd6"
      },
      "execution_count": 4,
      "outputs": [
        {
          "output_type": "display_data",
          "data": {
            "text/plain": [
              "<Figure size 432x288 with 1 Axes>"
            ],
            "image/png": "[encoded data removed]"
          },
          "metadata": {
            "needs_background": "light"
          }
        }
      ]
    },
    {
      "cell_type": "markdown",
      "source": [
        "Using a statitical test"
      ],
      "metadata": {
        "id": "8PruSo7DmEJd"
      }
    },
    {
      "cell_type": "code",
      "source": [
        "from scipy.stats import shapiro"
      ],
      "metadata": {
        "id": "IgfoLOd_mOmR"
      },
      "execution_count": 5,
      "outputs": []
    },
    {
      "cell_type": "code",
      "source": [
        "shapiro(graph)"
      ],
      "metadata": {
        "colab": {
          "base_uri": "https://localhost:8080/"
        },
        "id": "P8eQrf1LofBb",
        "outputId": "a3ea7fd4-a8d0-425f-edfe-f1e718f81618"
      },
      "execution_count": 6,
      "outputs": [
        {
          "output_type": "execute_result",
          "data": {
            "text/plain": [
              "ShapiroResult(statistic=0.9969273209571838, pvalue=0.468311607837677)"
            ]
          },
          "metadata": {},
          "execution_count": 6
        }
      ]
    },
    {
      "cell_type": "markdown",
      "source": [
        "From the above statistical test, p-value is greater than 0.05 and the statistic value is closer to 1, therefore we assume normal distribution. "
      ],
      "metadata": {
        "id": "qOKBZBGfpZnS"
      }
    },
    {
      "cell_type": "markdown",
      "source": [
        "Construct a Python document to create a 99% confidence interval for the population proportion p of successes (of your interest) "
      ],
      "metadata": {
        "id": "CtYvQz3umtPY"
      }
    },
    {
      "cell_type": "markdown",
      "source": [
        "**Q5**\n",
        "\n",
        "In a random sample of 1000 homes in a certain city, it is found that 228 are heated by oil. Find a 99% confidence interval for the proportion of homes in this city that are heated by oil. Assume a normal distribution.\n",
        "\n",
        "x - number of successes"
      ],
      "metadata": {
        "id": "ozLVZNI3_6o4"
      }
    },
    {
      "cell_type": "code",
      "source": [
        "import scipy.stats as stats\n",
        "import math"
      ],
      "metadata": {
        "id": "vMY3xc4-m24Y"
      },
      "execution_count": 7,
      "outputs": []
    },
    {
      "cell_type": "code",
      "source": [
        "n = 1000\n",
        "x_success = 228\n"
      ],
      "metadata": {
        "id": "zscQttxRC6qP"
      },
      "execution_count": 8,
      "outputs": []
    },
    {
      "cell_type": "code",
      "source": [
        "#point estimate\n",
        "p_head = x_success/n"
      ],
      "metadata": {
        "id": "FXeDjIpvyTS0"
      },
      "execution_count": 9,
      "outputs": []
    },
    {
      "cell_type": "code",
      "source": [
        "p_head"
      ],
      "metadata": {
        "colab": {
          "base_uri": "https://localhost:8080/"
        },
        "id": "lg6L6Lc8DY1V",
        "outputId": "86fdce41-28d8-41bc-cc70-8298cae06248"
      },
      "execution_count": 10,
      "outputs": [
        {
          "output_type": "execute_result",
          "data": {
            "text/plain": [
              "0.228"
            ]
          },
          "metadata": {},
          "execution_count": 10
        }
      ]
    },
    {
      "cell_type": "code",
      "source": [
        "alpha = 1 - 0.99"
      ],
      "metadata": {
        "id": "3-WV5wiADzia"
      },
      "execution_count": 11,
      "outputs": []
    },
    {
      "cell_type": "code",
      "source": [
        "alpha"
      ],
      "metadata": {
        "colab": {
          "base_uri": "https://localhost:8080/"
        },
        "id": "SDsYa5-OFTGo",
        "outputId": "553123f8-0a39-4e20-b4ff-e52686f45c8c"
      },
      "execution_count": 12,
      "outputs": [
        {
          "output_type": "execute_result",
          "data": {
            "text/plain": [
              "0.010000000000000009"
            ]
          },
          "metadata": {},
          "execution_count": 12
        }
      ]
    },
    {
      "cell_type": "code",
      "source": [
        "#half alpha in each tail\n",
        "round(alpha/2, 3)"
      ],
      "metadata": {
        "colab": {
          "base_uri": "https://localhost:8080/"
        },
        "id": "yBRr4bsAFkt0",
        "outputId": "e5f606d7-e676-4f11-cb75-73f8cd34628d"
      },
      "execution_count": 13,
      "outputs": [
        {
          "output_type": "execute_result",
          "data": {
            "text/plain": [
              "0.005"
            ]
          },
          "metadata": {},
          "execution_count": 13
        }
      ]
    },
    {
      "cell_type": "code",
      "source": [
        "#reliability factor\n",
        "z_critical = stats.norm.ppf(q=0.99 + alpha/2)\n",
        "rf = round(z_critical, 3)"
      ],
      "metadata": {
        "id": "VXOWQPl5FtC6"
      },
      "execution_count": 14,
      "outputs": []
    },
    {
      "cell_type": "code",
      "source": [
        "rf"
      ],
      "metadata": {
        "colab": {
          "base_uri": "https://localhost:8080/"
        },
        "id": "3dT1V7bcHrCd",
        "outputId": "c81b254d-e226-434c-ea50-db5ba16b9fad"
      },
      "execution_count": 15,
      "outputs": [
        {
          "output_type": "execute_result",
          "data": {
            "text/plain": [
              "2.576"
            ]
          },
          "metadata": {},
          "execution_count": 15
        }
      ]
    },
    {
      "cell_type": "code",
      "source": [
        "#standard error\n",
        "se = math.sqrt((p_head * (1 - p_head))/n)"
      ],
      "metadata": {
        "id": "FqYdroGMIOnP"
      },
      "execution_count": 16,
      "outputs": []
    },
    {
      "cell_type": "code",
      "source": [
        "se"
      ],
      "metadata": {
        "colab": {
          "base_uri": "https://localhost:8080/"
        },
        "id": "xbIKqOPtJrUF",
        "outputId": "5c918b76-433d-4dd6-8949-f4f2bd865a10"
      },
      "execution_count": 17,
      "outputs": [
        {
          "output_type": "execute_result",
          "data": {
            "text/plain": [
              "0.013267102170406317"
            ]
          },
          "metadata": {},
          "execution_count": 17
        }
      ]
    },
    {
      "cell_type": "code",
      "source": [
        "round(se, 3)"
      ],
      "metadata": {
        "colab": {
          "base_uri": "https://localhost:8080/"
        },
        "id": "3fQcXs4osRKC",
        "outputId": "fe903792-0cfc-45cb-bfd8-e14a3bb42fe9"
      },
      "execution_count": 18,
      "outputs": [
        {
          "output_type": "execute_result",
          "data": {
            "text/plain": [
              "0.013"
            ]
          },
          "metadata": {},
          "execution_count": 18
        }
      ]
    },
    {
      "cell_type": "code",
      "source": [
        "#margin of error\n",
        "me = round(rf * se, 3)"
      ],
      "metadata": {
        "id": "Bsn3iJVOJ_tc"
      },
      "execution_count": 19,
      "outputs": []
    },
    {
      "cell_type": "code",
      "source": [
        "me"
      ],
      "metadata": {
        "colab": {
          "base_uri": "https://localhost:8080/"
        },
        "id": "as_AfZgxKYIc",
        "outputId": "8570027a-50f3-48fe-cf69-1d531151dbb2"
      },
      "execution_count": 20,
      "outputs": [
        {
          "output_type": "execute_result",
          "data": {
            "text/plain": [
              "0.034"
            ]
          },
          "metadata": {},
          "execution_count": 20
        }
      ]
    },
    {
      "cell_type": "code",
      "source": [
        "#lower confidence limit\n",
        "lcl = p_head - me"
      ],
      "metadata": {
        "id": "QumD8a9bsp35"
      },
      "execution_count": 21,
      "outputs": []
    },
    {
      "cell_type": "code",
      "source": [
        "lcl"
      ],
      "metadata": {
        "colab": {
          "base_uri": "https://localhost:8080/"
        },
        "id": "xdVP6MG3s6bo",
        "outputId": "80e81367-9ea2-4fca-a075-8cd2241d32a5"
      },
      "execution_count": 22,
      "outputs": [
        {
          "output_type": "execute_result",
          "data": {
            "text/plain": [
              "0.194"
            ]
          },
          "metadata": {},
          "execution_count": 22
        }
      ]
    },
    {
      "cell_type": "code",
      "source": [
        "#upper confidence limit\n",
        "ucl = p_head + me"
      ],
      "metadata": {
        "id": "MJMFxXB6tDfF"
      },
      "execution_count": 23,
      "outputs": []
    },
    {
      "cell_type": "code",
      "source": [
        "ucl"
      ],
      "metadata": {
        "colab": {
          "base_uri": "https://localhost:8080/"
        },
        "id": "xbWqgg22uFze",
        "outputId": "734e4a4f-8ee5-47ea-dd48-dbf4d5b72f32"
      },
      "execution_count": 24,
      "outputs": [
        {
          "output_type": "execute_result",
          "data": {
            "text/plain": [
              "0.262"
            ]
          },
          "metadata": {},
          "execution_count": 24
        }
      ]
    },
    {
      "cell_type": "markdown",
      "source": [
        "*Interpreting the Results*\n",
        "\n",
        "a 99% Confidence Interval **CI** for the proportion of homes in the city that are heated by oil is (0.194, 0.262).\n",
        "\n",
        "That is,\n",
        "\n",
        "**0.194 < p < 0.262**\n"
      ],
      "metadata": {
        "id": "HUZV2wEIvve9"
      }
    }
  ]
}
